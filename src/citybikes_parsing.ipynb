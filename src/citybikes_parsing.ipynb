{
 "cells": [
  {
   "cell_type": "code",
   "execution_count": 4,
   "metadata": {},
   "outputs": [],
   "source": [
    "def citybikes_parsing(api_results, blank_df):\n",
    "    '''Takes an interable API result and blank dataframe that you want to fill out. Currenly it's designed for a very specific use-case, but can be generalized.'''\n",
    "    filled_df = blank_df.copy()\n",
    "    for x in range(555):\n",
    "        filled_df.loc[x, 'name'] = api_results['network']['stations'][x]['name']\n",
    "\n",
    "        filled_df.loc[x, 'id'] = api_results['network']['stations'][x]['id']\n",
    "\n",
    "        filled_df.loc[x, 'timestamp'] = api_results['network']['stations'][x]['timestamp']\n",
    "        \n",
    "        filled_df.loc[x, 'longitude'] = api_results['network']['stations'][x]['longitude']\n",
    "        \n",
    "        filled_df.loc[x, 'latitude'] = api_results['network']['stations'][x]['latitude']\n",
    "\n",
    "        filled_df.loc[x, 'slots'] = api_results['network']['stations'][x]['extra']['slots']\n",
    "\n",
    "        filled_df.loc[x, 'free_bikes'] = api_results['network']['stations'][x]['free_bikes']\n",
    "        \n",
    "        filled_df.loc[x, 'empty_slots'] = api_results['network']['stations'][x]['empty_slots']\n",
    "\n",
    "        filled_df.loc[x, 'has_ebikes'] = api_results['network']['stations'][x]['extra']['has_ebikes']\n",
    "\n",
    "        filled_df.loc[x, 'payment'] = api_results['network']['stations'][x]['extra']['payment']\n",
    "\n",
    "        filled_df.loc[x, 'renting'] = api_results['network']['stations'][x]['extra']['renting']\n",
    "        \n",
    "        filled_df.loc[x, 'returning'] = api_results['network']['stations'][x]['extra']['returning']\n",
    "\n",
    "        filled_df.loc[x, 'ebikes'] = api_results['network']['stations'][x]['extra']['ebikes']\n",
    "\n",
    "    return filled_df"
   ]
  },
  {
   "cell_type": "code",
   "execution_count": null,
   "metadata": {},
   "outputs": [],
   "source": []
  }
 ],
 "metadata": {
  "kernelspec": {
   "display_name": "env_tensorflow",
   "language": "python",
   "name": "python3"
  },
  "language_info": {
   "name": "python",
   "version": "3.10.9"
  }
 },
 "nbformat": 4,
 "nbformat_minor": 2
}
