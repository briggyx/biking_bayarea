{
 "cells": [
  {
   "cell_type": "code",
   "execution_count": 4,
   "metadata": {},
   "outputs": [],
   "source": [
    "def get_fsq_places(citybikes_df, url, params, headers):\n",
    "    citybikes_df = citybikes_df.copy()\n",
    "    params = params.copy()\n",
    "    headers = headers.copy()\n",
    "\n",
    "    cols = [\"fsq_id\", \"cat_id\", \"cat_name\", \"lat\", \"long\", \"name\", \"street_address\", \"zip\", \"locality\", \"distance\"]\n",
    "    fsq_df = pd.DataFrame(columns=cols)\n",
    "\n",
    "    i = 0 \n",
    "    for index, row in citybikes_df.iterrows():\n",
    "        if i == 1:\n",
    "            return list_of_fsq_results\n",
    "        else:\n",
    "            lat = row['latitude']\n",
    "            long = row['longitude']\n",
    "            params['ll'] = f'{lat},{long}'\n",
    "            response = requests.request(\"GET\", url, params=params, headers=headers)\n",
    "            data = response.json()\n",
    "            fsq_parsing(data, fsq_df)\n",
    "            i += 1"
   ]
  },
  {
   "cell_type": "code",
   "execution_count": null,
   "metadata": {},
   "outputs": [],
   "source": []
  },
  {
   "cell_type": "code",
   "execution_count": null,
   "metadata": {},
   "outputs": [],
   "source": []
  },
  {
   "cell_type": "code",
   "execution_count": null,
   "metadata": {},
   "outputs": [],
   "source": []
  },
  {
   "cell_type": "code",
   "execution_count": 2,
   "metadata": {},
   "outputs": [],
   "source": [
    "def fsq_parsing(api_results, blank_df):\n",
    "    '''Takes an iterable API result and blank dataframe that you want to fill out. Currently it's designed for a very specific use-case but can be generalized.'''\n",
    "    filled_df = blank_df.copy()\n",
    "    i = 0\n",
    "    for x in api_results['results']:\n",
    "        # fsq_id\n",
    "        filled_df.loc[i, 'fsq_id'] = x[0].get('fsq_id', None)\n",
    "        # cat_id\n",
    "        filled_df.loc[i, 'cat_id'] = x[0]['categories'][0].get('id', None)\n",
    "        # cat_name\n",
    "        filled_df.loc[i, 'cat_name'] = x[0]['categories'][0].get('name', None)\n",
    "        # lat\n",
    "        filled_df.loc[i, 'lat'] = x[0]['geocodes']['main'].get('latitude', None)\n",
    "        # long\n",
    "        filled_df.loc[i, 'long'] = x[0]['geocodes']['main'].get('longitude', None)\n",
    "        # name\n",
    "        filled_df.loc[i, 'name'] = x[0].get('name', None)\n",
    "        # street address\n",
    "        filled_df.loc[i, 'street_address'] = x[0]['location'].get('address', None)\n",
    "        # zip\n",
    "        filled_df.loc[i, 'zip'] = x[0]['location'].get('postcode', None)\n",
    "        # locality\n",
    "        filled_df.loc[i, 'locality'] = x[0]['location'].get('locality', None)\n",
    "        # distance from bike station\n",
    "        filled_df.loc[i, 'distance'] = x[0].get('distance', None)\n",
    "        i += 1\n",
    "    return filled_df                         "
   ]
  },
  {
   "cell_type": "code",
   "execution_count": null,
   "metadata": {},
   "outputs": [],
   "source": []
  },
  {
   "cell_type": "code",
   "execution_count": null,
   "metadata": {},
   "outputs": [],
   "source": []
  },
  {
   "cell_type": "code",
   "execution_count": null,
   "metadata": {},
   "outputs": [],
   "source": []
  },
  {
   "cell_type": "code",
   "execution_count": null,
   "metadata": {},
   "outputs": [],
   "source": []
  },
  {
   "cell_type": "code",
   "execution_count": null,
   "metadata": {},
   "outputs": [],
   "source": []
  },
  {
   "cell_type": "code",
   "execution_count": null,
   "metadata": {},
   "outputs": [],
   "source": []
  }
 ],
 "metadata": {
  "kernelspec": {
   "display_name": "env_tensorflow",
   "language": "python",
   "name": "python3"
  },
  "language_info": {
   "codemirror_mode": {
    "name": "ipython",
    "version": 3
   },
   "file_extension": ".py",
   "mimetype": "text/x-python",
   "name": "python",
   "nbconvert_exporter": "python",
   "pygments_lexer": "ipython3",
   "version": "3.10.9"
  }
 },
 "nbformat": 4,
 "nbformat_minor": 2
}
