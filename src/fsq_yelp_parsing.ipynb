{
 "cells": [
  {
   "cell_type": "code",
   "execution_count": 1,
   "metadata": {},
   "outputs": [],
   "source": [
    "import pandas as pd\n",
    "import requests"
   ]
  },
  {
   "cell_type": "code",
   "execution_count": 7,
   "metadata": {},
   "outputs": [],
   "source": [
    "def get_fsq_places(citybikes_df, url, params, headers):\n",
    "    citybikes_df = citybikes_df.copy()\n",
    "    params = params.copy()\n",
    "    headers = headers.copy()\n",
    "\n",
    "    cols = [\"fsq_id\", \"cat_id\", \"cat_name\", \"lat\", \"long\", \"name\", \"street_address\", \"zip\", \"locality\", \"distance\"]\n",
    "    fsq_df = pd.DataFrame(columns=cols)\n",
    "\n",
    "    for index, row in citybikes_df.iterrows():\n",
    "        lat = row['latitude']\n",
    "        long = row['longitude']\n",
    "        params['ll'] = f'{lat},{long}'\n",
    "        response = requests.get(url, params=params, headers=headers)  # Use requests.get for clarity\n",
    "        if response.status_code == 200:  # Check if the request was successful\n",
    "            data = response.json()\n",
    "            fsq_df = fsq_parsing(data, fsq_df)\n",
    "        else:\n",
    "            pass\n",
    "        break  # Remove this line if you intend to process more than the first row\n",
    "\n",
    "    return yelp_df"
   ]
  },
  {
   "cell_type": "code",
   "execution_count": null,
   "metadata": {},
   "outputs": [],
   "source": []
  },
  {
   "cell_type": "code",
   "execution_count": 6,
   "metadata": {},
   "outputs": [],
   "source": [
    "def fsq_parsing(api_results, blank_df):\n",
    "    filled_df = blank_df.copy()\n",
    "    for place in api_results['results']:\n",
    "        i = len(filled_df)\n",
    "        # Simplified using direct assignment as index `i` will always refer to the next row\n",
    "        filled_df.loc[i] = [\n",
    "            place.get('fsq_id', None),\n",
    "            place['categories'][0].get('id', None) if place['categories'] else None,\n",
    "            place['categories'][0].get('name', None) if place['categories'] else None,\n",
    "            place['geocodes']['main'].get('latitude', None),\n",
    "            place['geocodes']['main'].get('longitude', None),\n",
    "            place.get('name', None),\n",
    "            place['location'].get('address', None),\n",
    "            place['location'].get('postcode', None),\n",
    "            place['location'].get('locality', None),\n",
    "            place.get('distance', None)\n",
    "        ]\n",
    "    return filled_df"
   ]
  },
  {
   "cell_type": "code",
   "execution_count": null,
   "metadata": {},
   "outputs": [],
   "source": []
  },
  {
   "cell_type": "code",
   "execution_count": null,
   "metadata": {},
   "outputs": [],
   "source": []
  },
  {
   "cell_type": "code",
   "execution_count": null,
   "metadata": {},
   "outputs": [],
   "source": []
  },
  {
   "cell_type": "code",
   "execution_count": null,
   "metadata": {},
   "outputs": [],
   "source": []
  },
  {
   "cell_type": "code",
   "execution_count": null,
   "metadata": {},
   "outputs": [],
   "source": []
  },
  {
   "cell_type": "code",
   "execution_count": 3,
   "metadata": {},
   "outputs": [],
   "source": [
    "def get_yelp_places(citybikes_df, url, params, headers):\n",
    "    citybikes_df = citybikes_df.copy()\n",
    "    params = params.copy()\n",
    "    headers = headers.copy()\n",
    "\n",
    "    cols = [\n",
    "        \"reference_bike_stn\", \"yelp_id\", \"cat_alias\", \"lat\", \"long\", \"name\", \"street_address\", \"zip\",\n",
    "        \"city\", \"price\", \"rating\", \"review_count\", \"distance_from_bike_stn\"\n",
    "    ]\n",
    "    yelp_df = pd.DataFrame(columns=cols)\n",
    "\n",
    "    for index, row in citybikes_df.iterrows():\n",
    "        lat = row['latitude']\n",
    "        long = row['longitude']\n",
    "        bike_stn_id = row['id']\n",
    "        params['latitude'] = f'{lat}'\n",
    "        params['longitude'] = f'{long}'\n",
    "        response = requests.get(\n",
    "            url, params=params,\n",
    "            headers=headers)  # Use requests.get for clarity\n",
    "        if response.status_code == 200:  # Check if the request was successful\n",
    "            data = response.json()\n",
    "            yelp_df = yelp_parsing(data, yelp_df, bike_stn_id)\n",
    "        else:\n",
    "            pass\n",
    "        break  # Remove this line if you intend to process more than the first row\n",
    "\n",
    "    return yelp_df"
   ]
  },
  {
   "cell_type": "code",
   "execution_count": 4,
   "metadata": {},
   "outputs": [],
   "source": [
    "def yelp_parsing(api_results, blank_df, bike_stn_id):\n",
    "    filled_df = blank_df.copy()\n",
    "    for place in api_results['businesses']:\n",
    "        i = len(filled_df)\n",
    "        # Simplified using direct assignment as index `i` will always refer to the next row\n",
    "        filled_df.loc[i] = [\n",
    "            bike_stn_id, \n",
    "            place.get('id', None),\n",
    "            place['categories'][0].get('alias', None),\n",
    "            place['coordinates'].get('latitude', None),\n",
    "            place['coordinates'].get('longitude', None),\n",
    "            place.get('name', None),\n",
    "            place['location'].get('address1', None),\n",
    "            place['location'].get('zip_code', None),\n",
    "            place['location'].get('city', None),\n",
    "            place.get('price', None),\n",
    "            place.get('rating', None),\n",
    "            place.get('review_count', None),\n",
    "            place.get('distance', None)]\n",
    "    return filled_df"
   ]
  },
  {
   "cell_type": "code",
   "execution_count": null,
   "metadata": {},
   "outputs": [],
   "source": []
  },
  {
   "cell_type": "code",
   "execution_count": null,
   "metadata": {},
   "outputs": [],
   "source": []
  },
  {
   "cell_type": "code",
   "execution_count": null,
   "metadata": {},
   "outputs": [],
   "source": []
  }
 ],
 "metadata": {
  "kernelspec": {
   "display_name": "env_tensorflow",
   "language": "python",
   "name": "python3"
  },
  "language_info": {
   "codemirror_mode": {
    "name": "ipython",
    "version": 3
   },
   "file_extension": ".py",
   "mimetype": "text/x-python",
   "name": "python",
   "nbconvert_exporter": "python",
   "pygments_lexer": "ipython3",
   "version": "3.10.9"
  }
 },
 "nbformat": 4,
 "nbformat_minor": 2
}
