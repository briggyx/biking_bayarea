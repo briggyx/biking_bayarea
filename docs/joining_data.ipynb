{
 "cells": [
  {
   "cell_type": "code",
   "execution_count": 1,
   "metadata": {},
   "outputs": [],
   "source": [
    "import pandas as pd\n",
    "import pickle\n",
    "import sqlite3\n",
    "import re\n",
    "import sys\n",
    "sys.path.append('..\\\\src')\n",
    "import sqllite_database\n"
   ]
  },
  {
   "cell_type": "code",
   "execution_count": 10,
   "metadata": {},
   "outputs": [
    {
     "data": {
      "text/html": [
       "<div>\n",
       "<style scoped>\n",
       "    .dataframe tbody tr th:only-of-type {\n",
       "        vertical-align: middle;\n",
       "    }\n",
       "\n",
       "    .dataframe tbody tr th {\n",
       "        vertical-align: top;\n",
       "    }\n",
       "\n",
       "    .dataframe thead th {\n",
       "        text-align: right;\n",
       "    }\n",
       "</style>\n",
       "<table border=\"1\" class=\"dataframe\">\n",
       "  <thead>\n",
       "    <tr style=\"text-align: right;\">\n",
       "      <th></th>\n",
       "      <th>name</th>\n",
       "      <th>id</th>\n",
       "      <th>timestamp</th>\n",
       "      <th>longitude</th>\n",
       "      <th>latitude</th>\n",
       "      <th>slots</th>\n",
       "      <th>free_bikes</th>\n",
       "      <th>empty_slots</th>\n",
       "      <th>has_ebikes</th>\n",
       "      <th>ebikes</th>\n",
       "      <th>payment</th>\n",
       "      <th>renting</th>\n",
       "      <th>returning</th>\n",
       "    </tr>\n",
       "  </thead>\n",
       "  <tbody>\n",
       "    <tr>\n",
       "      <th>0</th>\n",
       "      <td>Harmon St at Adeline St</td>\n",
       "      <td>d0e8f4f1834b7b33a3faf8882f567ab8</td>\n",
       "      <td>2024-04-02T18:29:27.066000Z</td>\n",
       "      <td>-122.270582</td>\n",
       "      <td>37.849735</td>\n",
       "      <td>15</td>\n",
       "      <td>9</td>\n",
       "      <td>6</td>\n",
       "      <td>True</td>\n",
       "      <td>0</td>\n",
       "      <td>[key, creditcard]</td>\n",
       "      <td>1</td>\n",
       "      <td>1</td>\n",
       "    </tr>\n",
       "    <tr>\n",
       "      <th>1</th>\n",
       "      <td>Fountain Alley at S 2nd St</td>\n",
       "      <td>983514094dd808b1604da2dcfc2d09af</td>\n",
       "      <td>2024-04-02T18:29:26.582000Z</td>\n",
       "      <td>-121.889277</td>\n",
       "      <td>37.336188</td>\n",
       "      <td>11</td>\n",
       "      <td>8</td>\n",
       "      <td>3</td>\n",
       "      <td>True</td>\n",
       "      <td>6</td>\n",
       "      <td>[key, creditcard]</td>\n",
       "      <td>1</td>\n",
       "      <td>1</td>\n",
       "    </tr>\n",
       "    <tr>\n",
       "      <th>2</th>\n",
       "      <td>Oak St at 1st St</td>\n",
       "      <td>da17603652106fda93da4e255a5b0a22</td>\n",
       "      <td>2024-04-02T18:29:27.044000Z</td>\n",
       "      <td>-121.88109</td>\n",
       "      <td>37.322125</td>\n",
       "      <td>23</td>\n",
       "      <td>14</td>\n",
       "      <td>9</td>\n",
       "      <td>True</td>\n",
       "      <td>7</td>\n",
       "      <td>[key, creditcard]</td>\n",
       "      <td>1</td>\n",
       "      <td>1</td>\n",
       "    </tr>\n",
       "    <tr>\n",
       "      <th>3</th>\n",
       "      <td>Bestor Art Park</td>\n",
       "      <td>7a21c92b3b4cd2f7759107b4fdebf869</td>\n",
       "      <td>2024-04-02T18:29:26.797000Z</td>\n",
       "      <td>-121.874119</td>\n",
       "      <td>37.323678</td>\n",
       "      <td>15</td>\n",
       "      <td>12</td>\n",
       "      <td>3</td>\n",
       "      <td>True</td>\n",
       "      <td>3</td>\n",
       "      <td>[key, creditcard]</td>\n",
       "      <td>1</td>\n",
       "      <td>1</td>\n",
       "    </tr>\n",
       "    <tr>\n",
       "      <th>4</th>\n",
       "      <td>5th St at Virginia St</td>\n",
       "      <td>ce34d38fb230a23c1ced12d1e16df294</td>\n",
       "      <td>2024-04-02T18:29:26.971000Z</td>\n",
       "      <td>-121.87712</td>\n",
       "      <td>37.325998</td>\n",
       "      <td>27</td>\n",
       "      <td>19</td>\n",
       "      <td>7</td>\n",
       "      <td>True</td>\n",
       "      <td>12</td>\n",
       "      <td>[key, creditcard]</td>\n",
       "      <td>1</td>\n",
       "      <td>1</td>\n",
       "    </tr>\n",
       "  </tbody>\n",
       "</table>\n",
       "</div>"
      ],
      "text/plain": [
       "                         name                                id  \\\n",
       "0     Harmon St at Adeline St  d0e8f4f1834b7b33a3faf8882f567ab8   \n",
       "1  Fountain Alley at S 2nd St  983514094dd808b1604da2dcfc2d09af   \n",
       "2            Oak St at 1st St  da17603652106fda93da4e255a5b0a22   \n",
       "3             Bestor Art Park  7a21c92b3b4cd2f7759107b4fdebf869   \n",
       "4       5th St at Virginia St  ce34d38fb230a23c1ced12d1e16df294   \n",
       "\n",
       "                     timestamp   longitude   latitude slots free_bikes  \\\n",
       "0  2024-04-02T18:29:27.066000Z -122.270582  37.849735    15          9   \n",
       "1  2024-04-02T18:29:26.582000Z -121.889277  37.336188    11          8   \n",
       "2  2024-04-02T18:29:27.044000Z  -121.88109  37.322125    23         14   \n",
       "3  2024-04-02T18:29:26.797000Z -121.874119  37.323678    15         12   \n",
       "4  2024-04-02T18:29:26.971000Z  -121.87712  37.325998    27         19   \n",
       "\n",
       "  empty_slots has_ebikes ebikes            payment renting returning  \n",
       "0           6       True      0  [key, creditcard]       1         1  \n",
       "1           3       True      6  [key, creditcard]       1         1  \n",
       "2           9       True      7  [key, creditcard]       1         1  \n",
       "3           3       True      3  [key, creditcard]       1         1  \n",
       "4           7       True     12  [key, creditcard]       1         1  "
      ]
     },
     "execution_count": 10,
     "metadata": {},
     "output_type": "execute_result"
    }
   ],
   "source": [
    "# UNPICKLE CITYBIKES DF\n",
    "with open('../data/citybikes_filled_df.pickle', 'rb') as df:\n",
    "    citybikes_df = pickle.load(df)\n",
    "\n",
    "citybikes_df.head(5)"
   ]
  },
  {
   "cell_type": "code",
   "execution_count": 36,
   "metadata": {},
   "outputs": [
    {
     "data": {
      "text/plain": [
       "array([], dtype=object)"
      ]
     },
     "execution_count": 36,
     "metadata": {},
     "output_type": "execute_result"
    }
   ],
   "source": [
    "non_unique_values = citybikes_df[citybikes_df.duplicated('id', keep=False)]['id'].unique()\n",
    "non_unique_values"
   ]
  },
  {
   "cell_type": "code",
   "execution_count": 27,
   "metadata": {},
   "outputs": [
    {
     "data": {
      "text/html": [
       "<div>\n",
       "<style scoped>\n",
       "    .dataframe tbody tr th:only-of-type {\n",
       "        vertical-align: middle;\n",
       "    }\n",
       "\n",
       "    .dataframe tbody tr th {\n",
       "        vertical-align: top;\n",
       "    }\n",
       "\n",
       "    .dataframe thead th {\n",
       "        text-align: right;\n",
       "    }\n",
       "</style>\n",
       "<table border=\"1\" class=\"dataframe\">\n",
       "  <thead>\n",
       "    <tr style=\"text-align: right;\">\n",
       "      <th></th>\n",
       "      <th>reference_bike_stn</th>\n",
       "      <th>fsq_id</th>\n",
       "      <th>cat_id</th>\n",
       "      <th>cat_name</th>\n",
       "      <th>lat</th>\n",
       "      <th>long</th>\n",
       "      <th>name</th>\n",
       "      <th>street_address</th>\n",
       "      <th>zip</th>\n",
       "      <th>locality</th>\n",
       "      <th>distance</th>\n",
       "    </tr>\n",
       "  </thead>\n",
       "  <tbody>\n",
       "    <tr>\n",
       "      <th>0</th>\n",
       "      <td>d0e8f4f1834b7b33a3faf8882f567ab8</td>\n",
       "      <td>4b3fc82cf964a520a1ae25e3</td>\n",
       "      <td>13303</td>\n",
       "      <td>Mexican Restaurant</td>\n",
       "      <td>37.850052</td>\n",
       "      <td>-122.270523</td>\n",
       "      <td>Las Palmas Super Burritos and Heros</td>\n",
       "      <td>3221 Adeline St</td>\n",
       "      <td>94703</td>\n",
       "      <td>Berkeley</td>\n",
       "      <td>33</td>\n",
       "    </tr>\n",
       "    <tr>\n",
       "      <th>1</th>\n",
       "      <td>d0e8f4f1834b7b33a3faf8882f567ab8</td>\n",
       "      <td>57da76a603a44d3f9b3ddd3b</td>\n",
       "      <td>10004</td>\n",
       "      <td>Art Gallery</td>\n",
       "      <td>37.849798</td>\n",
       "      <td>-122.271728</td>\n",
       "      <td>Firehouse Collective East/West Art Studios</td>\n",
       "      <td>1835 Harmon St</td>\n",
       "      <td>94703</td>\n",
       "      <td>Berkeley</td>\n",
       "      <td>100</td>\n",
       "    </tr>\n",
       "    <tr>\n",
       "      <th>2</th>\n",
       "      <td>d0e8f4f1834b7b33a3faf8882f567ab8</td>\n",
       "      <td>4b64bd80f964a52074cc2ae3</td>\n",
       "      <td>13064</td>\n",
       "      <td>Pizzeria</td>\n",
       "      <td>37.849316</td>\n",
       "      <td>-122.271629</td>\n",
       "      <td>Domino's Pizza</td>\n",
       "      <td>3264 Adeline St</td>\n",
       "      <td>94703</td>\n",
       "      <td>Berkeley</td>\n",
       "      <td>113</td>\n",
       "    </tr>\n",
       "    <tr>\n",
       "      <th>3</th>\n",
       "      <td>d0e8f4f1834b7b33a3faf8882f567ab8</td>\n",
       "      <td>4c12e9a51b5cef3b9cd7edc4</td>\n",
       "      <td>13102</td>\n",
       "      <td>Cantonese Restaurant</td>\n",
       "      <td>37.848703</td>\n",
       "      <td>-122.270660</td>\n",
       "      <td>Chen's Garden</td>\n",
       "      <td>1818 Alcatraz Ave</td>\n",
       "      <td>94703</td>\n",
       "      <td>Berkeley</td>\n",
       "      <td>119</td>\n",
       "    </tr>\n",
       "    <tr>\n",
       "      <th>4</th>\n",
       "      <td>d0e8f4f1834b7b33a3faf8882f567ab8</td>\n",
       "      <td>52fe4532498e80c8d231d768</td>\n",
       "      <td>13034</td>\n",
       "      <td>Café</td>\n",
       "      <td>37.850958</td>\n",
       "      <td>-122.271077</td>\n",
       "      <td>Rasa Caffe</td>\n",
       "      <td>3140 Martin Luther King Jr Way</td>\n",
       "      <td>94703</td>\n",
       "      <td>Berkeley</td>\n",
       "      <td>141</td>\n",
       "    </tr>\n",
       "  </tbody>\n",
       "</table>\n",
       "</div>"
      ],
      "text/plain": [
       "                 reference_bike_stn                    fsq_id  cat_id  \\\n",
       "0  d0e8f4f1834b7b33a3faf8882f567ab8  4b3fc82cf964a520a1ae25e3   13303   \n",
       "1  d0e8f4f1834b7b33a3faf8882f567ab8  57da76a603a44d3f9b3ddd3b   10004   \n",
       "2  d0e8f4f1834b7b33a3faf8882f567ab8  4b64bd80f964a52074cc2ae3   13064   \n",
       "3  d0e8f4f1834b7b33a3faf8882f567ab8  4c12e9a51b5cef3b9cd7edc4   13102   \n",
       "4  d0e8f4f1834b7b33a3faf8882f567ab8  52fe4532498e80c8d231d768   13034   \n",
       "\n",
       "               cat_name        lat        long  \\\n",
       "0    Mexican Restaurant  37.850052 -122.270523   \n",
       "1           Art Gallery  37.849798 -122.271728   \n",
       "2              Pizzeria  37.849316 -122.271629   \n",
       "3  Cantonese Restaurant  37.848703 -122.270660   \n",
       "4                  Café  37.850958 -122.271077   \n",
       "\n",
       "                                         name                  street_address  \\\n",
       "0         Las Palmas Super Burritos and Heros                 3221 Adeline St   \n",
       "1  Firehouse Collective East/West Art Studios                  1835 Harmon St   \n",
       "2                              Domino's Pizza                 3264 Adeline St   \n",
       "3                               Chen's Garden               1818 Alcatraz Ave   \n",
       "4                                  Rasa Caffe  3140 Martin Luther King Jr Way   \n",
       "\n",
       "     zip  locality  distance  \n",
       "0  94703  Berkeley        33  \n",
       "1  94703  Berkeley       100  \n",
       "2  94703  Berkeley       113  \n",
       "3  94703  Berkeley       119  \n",
       "4  94703  Berkeley       141  "
      ]
     },
     "execution_count": 27,
     "metadata": {},
     "output_type": "execute_result"
    }
   ],
   "source": [
    "# UNPICKLE FSQ DF \n",
    "with open('../data/fsq_places.pickle', 'rb') as df:\n",
    "    fsq_places = pickle.load(df)\n",
    "\n",
    "fsq_places.head(5)"
   ]
  },
  {
   "cell_type": "code",
   "execution_count": 45,
   "metadata": {},
   "outputs": [
    {
     "data": {
      "text/html": [
       "<div>\n",
       "<style scoped>\n",
       "    .dataframe tbody tr th:only-of-type {\n",
       "        vertical-align: middle;\n",
       "    }\n",
       "\n",
       "    .dataframe tbody tr th {\n",
       "        vertical-align: top;\n",
       "    }\n",
       "\n",
       "    .dataframe thead th {\n",
       "        text-align: right;\n",
       "    }\n",
       "</style>\n",
       "<table border=\"1\" class=\"dataframe\">\n",
       "  <thead>\n",
       "    <tr style=\"text-align: right;\">\n",
       "      <th></th>\n",
       "      <th>reference_bike_stn</th>\n",
       "      <th>yelp_id</th>\n",
       "      <th>cat_alias</th>\n",
       "      <th>lat</th>\n",
       "      <th>long</th>\n",
       "      <th>name</th>\n",
       "      <th>street_address</th>\n",
       "      <th>zip</th>\n",
       "      <th>city</th>\n",
       "      <th>price</th>\n",
       "      <th>rating</th>\n",
       "      <th>review_count</th>\n",
       "      <th>distance_from_bike_stn</th>\n",
       "    </tr>\n",
       "  </thead>\n",
       "  <tbody>\n",
       "    <tr>\n",
       "      <th>0</th>\n",
       "      <td>d0e8f4f1834b7b33a3faf8882f567ab8</td>\n",
       "      <td>OjMumhyL26n5fDZ2CQLnyg</td>\n",
       "      <td>ethiopian</td>\n",
       "      <td>37.850301</td>\n",
       "      <td>-122.271266</td>\n",
       "      <td>Lemat</td>\n",
       "      <td>3212 Adeline St</td>\n",
       "      <td>94703</td>\n",
       "      <td>Berkeley</td>\n",
       "      <td>$$</td>\n",
       "      <td>4.4</td>\n",
       "      <td>239</td>\n",
       "      <td>86.993559</td>\n",
       "    </tr>\n",
       "    <tr>\n",
       "      <th>1</th>\n",
       "      <td>d0e8f4f1834b7b33a3faf8882f567ab8</td>\n",
       "      <td>-EpmBwODsvQ6gHx2IuVO5w</td>\n",
       "      <td>cafes</td>\n",
       "      <td>37.850017</td>\n",
       "      <td>-122.270532</td>\n",
       "      <td>El Tiny Cafe</td>\n",
       "      <td>3219 Adeline St</td>\n",
       "      <td>94703</td>\n",
       "      <td>Berkeley</td>\n",
       "      <td>None</td>\n",
       "      <td>4.8</td>\n",
       "      <td>60</td>\n",
       "      <td>31.707767</td>\n",
       "    </tr>\n",
       "    <tr>\n",
       "      <th>2</th>\n",
       "      <td>d0e8f4f1834b7b33a3faf8882f567ab8</td>\n",
       "      <td>shRP4Vxu2hDdmdsHf-5DmQ</td>\n",
       "      <td>burgers</td>\n",
       "      <td>37.848520</td>\n",
       "      <td>-122.260380</td>\n",
       "      <td>A+ Burger</td>\n",
       "      <td>6228 Telegraph Ave</td>\n",
       "      <td>94609</td>\n",
       "      <td>Oakland</td>\n",
       "      <td>$$</td>\n",
       "      <td>4.4</td>\n",
       "      <td>859</td>\n",
       "      <td>895.542416</td>\n",
       "    </tr>\n",
       "    <tr>\n",
       "      <th>3</th>\n",
       "      <td>d0e8f4f1834b7b33a3faf8882f567ab8</td>\n",
       "      <td>pJdwr6JoCVXTKbdJlm-rdg</td>\n",
       "      <td>italian</td>\n",
       "      <td>37.850900</td>\n",
       "      <td>-122.278200</td>\n",
       "      <td>Creekwood</td>\n",
       "      <td>3121 Sacramento St</td>\n",
       "      <td>94702</td>\n",
       "      <td>Berkeley</td>\n",
       "      <td>$$</td>\n",
       "      <td>4.6</td>\n",
       "      <td>481</td>\n",
       "      <td>684.391900</td>\n",
       "    </tr>\n",
       "    <tr>\n",
       "      <th>4</th>\n",
       "      <td>d0e8f4f1834b7b33a3faf8882f567ab8</td>\n",
       "      <td>nt46Amrqx5qwTyNEcO54ew</td>\n",
       "      <td>burgers</td>\n",
       "      <td>37.843820</td>\n",
       "      <td>-122.276750</td>\n",
       "      <td>Sideshow Kitchen</td>\n",
       "      <td>942 Stanford Ave</td>\n",
       "      <td>94608</td>\n",
       "      <td>Oakland</td>\n",
       "      <td>$$</td>\n",
       "      <td>4.4</td>\n",
       "      <td>496</td>\n",
       "      <td>853.805062</td>\n",
       "    </tr>\n",
       "  </tbody>\n",
       "</table>\n",
       "</div>"
      ],
      "text/plain": [
       "                 reference_bike_stn                 yelp_id  cat_alias  \\\n",
       "0  d0e8f4f1834b7b33a3faf8882f567ab8  OjMumhyL26n5fDZ2CQLnyg  ethiopian   \n",
       "1  d0e8f4f1834b7b33a3faf8882f567ab8  -EpmBwODsvQ6gHx2IuVO5w      cafes   \n",
       "2  d0e8f4f1834b7b33a3faf8882f567ab8  shRP4Vxu2hDdmdsHf-5DmQ    burgers   \n",
       "3  d0e8f4f1834b7b33a3faf8882f567ab8  pJdwr6JoCVXTKbdJlm-rdg    italian   \n",
       "4  d0e8f4f1834b7b33a3faf8882f567ab8  nt46Amrqx5qwTyNEcO54ew    burgers   \n",
       "\n",
       "         lat        long              name      street_address    zip  \\\n",
       "0  37.850301 -122.271266             Lemat     3212 Adeline St  94703   \n",
       "1  37.850017 -122.270532      El Tiny Cafe     3219 Adeline St  94703   \n",
       "2  37.848520 -122.260380         A+ Burger  6228 Telegraph Ave  94609   \n",
       "3  37.850900 -122.278200         Creekwood  3121 Sacramento St  94702   \n",
       "4  37.843820 -122.276750  Sideshow Kitchen    942 Stanford Ave  94608   \n",
       "\n",
       "       city price  rating  review_count  distance_from_bike_stn  \n",
       "0  Berkeley    $$     4.4           239               86.993559  \n",
       "1  Berkeley  None     4.8            60               31.707767  \n",
       "2   Oakland    $$     4.4           859              895.542416  \n",
       "3  Berkeley    $$     4.6           481              684.391900  \n",
       "4   Oakland    $$     4.4           496              853.805062  "
      ]
     },
     "execution_count": 45,
     "metadata": {},
     "output_type": "execute_result"
    }
   ],
   "source": [
    "# UNPICKLE YELP DF \n",
    "with open('../data/yelp_df.pickle', 'rb') as df:\n",
    "    yelp_df = pickle.load(df)\n",
    "\n",
    "yelp_df.head(5)"
   ]
  },
  {
   "cell_type": "markdown",
   "metadata": {},
   "source": [
    "# Database"
   ]
  },
  {
   "cell_type": "markdown",
   "metadata": {},
   "source": [
    "Put all your results in an SQLite3 database (remember, SQLite stores its databases as files in your local machine - make sure to create your database in your project's data/ directory!)"
   ]
  },
  {
   "cell_type": "code",
   "execution_count": 3,
   "metadata": {},
   "outputs": [],
   "source": [
    "con = sqlite3.connect(\"../data/biking_bayarea.db\")"
   ]
  },
  {
   "cell_type": "code",
   "execution_count": 4,
   "metadata": {},
   "outputs": [],
   "source": [
    "cur = con.cursor() # create database cursor, used to execute SQL queries & fetch results"
   ]
  },
  {
   "cell_type": "code",
   "execution_count": 5,
   "metadata": {},
   "outputs": [
    {
     "ename": "OperationalError",
     "evalue": "table citybikes already exists",
     "output_type": "error",
     "traceback": [
      "\u001b[1;31m---------------------------------------------------------------------------\u001b[0m",
      "\u001b[1;31mOperationalError\u001b[0m                          Traceback (most recent call last)",
      "Cell \u001b[1;32mIn[5], line 1\u001b[0m\n\u001b[1;32m----> 1\u001b[0m \u001b[43mcur\u001b[49m\u001b[38;5;241;43m.\u001b[39;49m\u001b[43mexecute\u001b[49m\u001b[43m(\u001b[49m\u001b[38;5;124;43m\"\"\"\u001b[39;49m\n\u001b[0;32m      2\u001b[0m \u001b[38;5;124;43mCREATE TABLE citybikes (\u001b[39;49m\n\u001b[0;32m      3\u001b[0m \u001b[38;5;124;43m    name VARCHAR(50),\u001b[39;49m\n\u001b[0;32m      4\u001b[0m \u001b[38;5;124;43m    id VARCHAR(100) PRIMARY KEY NOT NULL,\u001b[39;49m\n\u001b[0;32m      5\u001b[0m \u001b[38;5;124;43m    timestamp TIMESTAMP,\u001b[39;49m\n\u001b[0;32m      6\u001b[0m \u001b[38;5;124;43m    longitude VARCHAR(50),\u001b[39;49m\n\u001b[0;32m      7\u001b[0m \u001b[38;5;124;43m    latitude VARCHAR(50),\u001b[39;49m\n\u001b[0;32m      8\u001b[0m \u001b[38;5;124;43m    slots INT UNSIGNED,\u001b[39;49m\n\u001b[0;32m      9\u001b[0m \u001b[38;5;124;43m    free_bikes INT UNSIGNED,\u001b[39;49m\n\u001b[0;32m     10\u001b[0m \u001b[38;5;124;43m    empty_slots INT UNSIGNED,\u001b[39;49m\n\u001b[0;32m     11\u001b[0m \u001b[38;5;124;43m    has_ebikes BOOLEAN,\u001b[39;49m\n\u001b[0;32m     12\u001b[0m \u001b[38;5;124;43m    ebikes INT UNSIGNED,\u001b[39;49m\n\u001b[0;32m     13\u001b[0m \u001b[38;5;124;43m    payment VARCHAR(50),\u001b[39;49m\n\u001b[0;32m     14\u001b[0m \u001b[38;5;124;43m    renting INT UNSIGNED,\u001b[39;49m\n\u001b[0;32m     15\u001b[0m \u001b[38;5;124;43m    is_returning INT UNSIGNED\u001b[39;49m\n\u001b[0;32m     16\u001b[0m \u001b[38;5;124;43m);\u001b[39;49m\n\u001b[0;32m     17\u001b[0m \u001b[38;5;124;43m\"\"\"\u001b[39;49m\u001b[43m)\u001b[49m\n",
      "\u001b[1;31mOperationalError\u001b[0m: table citybikes already exists"
     ]
    }
   ],
   "source": [
    "# cur.execute(\"\"\"\n",
    "# CREATE TABLE citybikes (\n",
    "#     name VARCHAR(50),\n",
    "#     id VARCHAR(100) PRIMARY KEY NOT NULL,\n",
    "#     timestamp TIMESTAMP,\n",
    "#     longitude VARCHAR(50),\n",
    "#     latitude VARCHAR(50),\n",
    "#     slots INT UNSIGNED,\n",
    "#     free_bikes INT UNSIGNED,\n",
    "#     empty_slots INT UNSIGNED,\n",
    "#     has_ebikes BOOLEAN,\n",
    "#     ebikes INT UNSIGNED,\n",
    "#     payment VARCHAR(50),\n",
    "#     renting INT UNSIGNED,\n",
    "#     is_returning INT UNSIGNED\n",
    "# );\n",
    "# \"\"\")"
   ]
  },
  {
   "cell_type": "code",
   "execution_count": 13,
   "metadata": {},
   "outputs": [],
   "source": [
    "# sqllite_database.populate_citybikes_sqllite(con, cur, citybikes_df)"
   ]
  },
  {
   "cell_type": "code",
   "execution_count": 14,
   "metadata": {},
   "outputs": [
    {
     "name": "stdout",
     "output_type": "stream",
     "text": [
      "555\n"
     ]
    }
   ],
   "source": [
    "cur.execute(\"SELECT COUNT(*) FROM citybikes;\")\n",
    "row = cur.fetchone()\n",
    "print(row[0])"
   ]
  },
  {
   "cell_type": "code",
   "execution_count": 73,
   "metadata": {},
   "outputs": [
    {
     "name": "stdout",
     "output_type": "stream",
     "text": [
      "('Harmon St at Adeline St', 'd0e8f4f1834b7b33a3faf8882f567ab8', '2024-04-02T18:29:27.066000Z', '-122.270582', '37.849735', 15, 9, 6, 1, 0, 1, 1)\n",
      "('Fountain Alley at S 2nd St', '983514094dd808b1604da2dcfc2d09af', '2024-04-02T18:29:26.582000Z', '-121.889276504517', '37.3361883002906', 11, 8, 3, 1, 6, 1, 1)\n",
      "('Oak St at 1st St', 'da17603652106fda93da4e255a5b0a22', '2024-04-02T18:29:27.044000Z', '-121.881090402603', '37.3221246254486', 23, 14, 9, 1, 7, 1, 1)\n",
      "('Bestor Art Park', '7a21c92b3b4cd2f7759107b4fdebf869', '2024-04-02T18:29:26.797000Z', '-121.8741186', '37.3236779', 15, 12, 3, 1, 3, 1, 1)\n",
      "('5th St at Virginia St', 'ce34d38fb230a23c1ced12d1e16df294', '2024-04-02T18:29:26.971000Z', '-121.87712', '37.3259984', 27, 19, 7, 1, 12, 1, 1)\n"
     ]
    }
   ],
   "source": [
    "cur.execute(\"SELECT * FROM citybikes LIMIT 5;\")\n",
    "rows = cur.fetchall()\n",
    "for row in rows:\n",
    "    print(row)"
   ]
  },
  {
   "cell_type": "code",
   "execution_count": 79,
   "metadata": {},
   "outputs": [
    {
     "name": "stdout",
     "output_type": "stream",
     "text": [
      "(0, 'name', 'VARCHAR(50)', 0, None, 0)\n",
      "(1, 'id', 'VARCHAR(100)', 1, None, 1)\n",
      "(2, 'timestamp', 'TIMESTAMP', 0, None, 0)\n",
      "(3, 'longitude', 'VARCHAR(50)', 0, None, 0)\n",
      "(4, 'latitude', 'VARCHAR(50)', 0, None, 0)\n",
      "(5, 'slots', 'INT UNSIGNED', 0, None, 0)\n",
      "(6, 'free_bikes', 'INT UNSIGNED', 0, None, 0)\n",
      "(7, 'empty_slots', 'INT UNSIGNED', 0, None, 0)\n",
      "(8, 'has_ebikes', 'BOOLEAN', 0, None, 0)\n",
      "(9, 'ebikes', 'INT UNSIGNED', 0, None, 0)\n",
      "(10, 'renting', 'INT UNSIGNED', 0, None, 0)\n",
      "(11, 'is_returning', 'INT UNSIGNED', 0, None, 0)\n"
     ]
    }
   ],
   "source": [
    "cur.execute(\"PRAGMA table_info(citybikes);\")\n",
    "rows = cur.fetchall()\n",
    "for row in rows:\n",
    "    print(row)"
   ]
  },
  {
   "cell_type": "code",
   "execution_count": 17,
   "metadata": {},
   "outputs": [],
   "source": [
    "cur.execute(\"UPDATE citybikes SET payment = REPLACE(payment, '''', '')\")\n",
    "con.commit()\n",
    "\n",
    "cur.execute(\"SELECT * FROM citybikes LIMIT 5;\")\n",
    "rows = cur.fetchall()\n",
    "for row in rows:\n",
    "    print(row)"
   ]
  },
  {
   "cell_type": "code",
   "execution_count": 14,
   "metadata": {},
   "outputs": [],
   "source": [
    "# cur.execute(\"ALTER TABLE citybikes DROP COLUMN payment\")\n",
    "# con.commit()"
   ]
  },
  {
   "cell_type": "code",
   "execution_count": 18,
   "metadata": {},
   "outputs": [],
   "source": [
    "# cur.execute(\"UPDATE citybikes SET name = TRIM(name), id = TRIM(id);\")\n",
    "# con.commit()"
   ]
  },
  {
   "cell_type": "code",
   "execution_count": 90,
   "metadata": {},
   "outputs": [
    {
     "data": {
      "text/plain": [
       "<sqlite3.Cursor at 0x1fb5f59e9c0>"
      ]
     },
     "execution_count": 90,
     "metadata": {},
     "output_type": "execute_result"
    }
   ],
   "source": [
    "# cur.execute(\"\"\"\n",
    "# CREATE TABLE fsq (\n",
    "#     reference_bike_stn VARCHAR(100),\n",
    "#     fsq_id VARCHAR(100),\n",
    "#     cat_id INT UNSIGNED,\n",
    "#     cat_name VARCHAR(100),\n",
    "#     lat SMALLINT UNSIGNED,\n",
    "#     long SMALLINT,\n",
    "#     name VARCHAR(100),\n",
    "#     street_address VARCHAR(100),\n",
    "#     zip INT UNSIGNED,\n",
    "#     locality VARCHAR(50),\n",
    "#     distance SMALLINT UNSIGNED,\n",
    "#     PRIMARY KEY (reference_bike_stn, fsq_id),\n",
    "#     FOREIGN KEY (reference_bike_stn) REFERENCES citybikes(id)\n",
    "# );\n",
    "# \"\"\")"
   ]
  },
  {
   "cell_type": "code",
   "execution_count": null,
   "metadata": {},
   "outputs": [],
   "source": []
  },
  {
   "cell_type": "code",
   "execution_count": 91,
   "metadata": {},
   "outputs": [],
   "source": [
    "# sqllite_database.populate_fsq_sqllite(con, cur, fsq_places)"
   ]
  },
  {
   "cell_type": "code",
   "execution_count": 92,
   "metadata": {},
   "outputs": [
    {
     "name": "stdout",
     "output_type": "stream",
     "text": [
      "25677\n"
     ]
    }
   ],
   "source": [
    "cur.execute(\"SELECT COUNT(*) FROM fsq;\")\n",
    "row = cur.fetchone()\n",
    "print(row[0])"
   ]
  },
  {
   "cell_type": "code",
   "execution_count": 96,
   "metadata": {},
   "outputs": [
    {
     "name": "stdout",
     "output_type": "stream",
     "text": [
      "('d0e8f4f1834b7b33a3faf8882f567ab8', '4b3fc82cf964a520a1ae25e3', 13303, 'Mexican Restaurant', 37.850052, -122.270523, 'Las Palmas Super Burritos and Heros', '3221 Adeline St', 94703, 'Berkeley', 33)\n",
      "('d0e8f4f1834b7b33a3faf8882f567ab8', '57da76a603a44d3f9b3ddd3b', 10004, 'Art Gallery', 37.849798, -122.271728, 'Firehouse Collective East/West Art Studios', '1835 Harmon St', 94703, 'Berkeley', 100)\n",
      "('d0e8f4f1834b7b33a3faf8882f567ab8', '4b64bd80f964a52074cc2ae3', 13064, 'Pizzeria', 37.849316, -122.271629, \"Domino's Pizza\", '3264 Adeline St', 94703, 'Berkeley', 113)\n",
      "('d0e8f4f1834b7b33a3faf8882f567ab8', '4c12e9a51b5cef3b9cd7edc4', 13102, 'Cantonese Restaurant', 37.848703, -122.27066, \"Chen's Garden\", '1818 Alcatraz Ave', 94703, 'Berkeley', 119)\n",
      "('d0e8f4f1834b7b33a3faf8882f567ab8', '52fe4532498e80c8d231d768', 13034, 'Café', 37.850958, -122.271077, 'Rasa Caffe', '3140 Martin Luther King Jr Way', 94703, 'Berkeley', 141)\n"
     ]
    }
   ],
   "source": [
    "cur.execute(\"SELECT * FROM fsq LIMIT 5;\")\n",
    "rows = cur.fetchall()\n",
    "for row in rows:\n",
    "    print(row)"
   ]
  },
  {
   "cell_type": "code",
   "execution_count": 94,
   "metadata": {},
   "outputs": [],
   "source": [
    "cur.execute(\"\"\"\n",
    "UPDATE fsq\n",
    "SET name = TRIM(name),\n",
    "    reference_bike_stn = TRIM(reference_bike_stn),\n",
    "    fsq_id = TRIM(fsq_id),\n",
    "    cat_name = TRIM(cat_name),\n",
    "    locality = TRIM(locality);\n",
    "\"\"\")\n",
    "con.commit()\n"
   ]
  },
  {
   "cell_type": "code",
   "execution_count": 95,
   "metadata": {},
   "outputs": [
    {
     "name": "stdout",
     "output_type": "stream",
     "text": [
      "(0, 'reference_bike_stn', 'VARCHAR(100)', 0, None, 1)\n",
      "(1, 'fsq_id', 'VARCHAR(100)', 0, None, 2)\n",
      "(2, 'cat_id', 'INT UNSIGNED', 0, None, 0)\n",
      "(3, 'cat_name', 'VARCHAR(100)', 0, None, 0)\n",
      "(4, 'lat', 'SMALLINT UNSIGNED', 0, None, 0)\n",
      "(5, 'long', 'SMALLINT', 0, None, 0)\n",
      "(6, 'name', 'VARCHAR(100)', 0, None, 0)\n",
      "(7, 'street_address', 'VARCHAR(100)', 0, None, 0)\n",
      "(8, 'zip', 'INT UNSIGNED', 0, None, 0)\n",
      "(9, 'locality', 'VARCHAR(50)', 0, None, 0)\n",
      "(10, 'distance', 'SMALLINT UNSIGNED', 0, None, 0)\n"
     ]
    }
   ],
   "source": [
    "cur.execute(\"PRAGMA table_info(fsq);\")\n",
    "rows = cur.fetchall()\n",
    "for row in rows:\n",
    "    print(row)"
   ]
  },
  {
   "cell_type": "code",
   "execution_count": null,
   "metadata": {},
   "outputs": [],
   "source": []
  },
  {
   "cell_type": "code",
   "execution_count": null,
   "metadata": {},
   "outputs": [],
   "source": []
  },
  {
   "cell_type": "code",
   "execution_count": 40,
   "metadata": {},
   "outputs": [],
   "source": [
    "# cur.execute(\"ALTER TABLE fsq DROP COLUMN cat_id;\")\n",
    "# con.commit()"
   ]
  },
  {
   "cell_type": "code",
   "execution_count": 56,
   "metadata": {},
   "outputs": [
    {
     "data": {
      "text/plain": [
       "<sqlite3.Cursor at 0x1fb5f59e9c0>"
      ]
     },
     "execution_count": 56,
     "metadata": {},
     "output_type": "execute_result"
    }
   ],
   "source": [
    "# cur.execute(\"\"\"\n",
    "# CREATE TABLE yelp (\n",
    "#     reference_bike_stn VARCHAR(100),\t\n",
    "#     yelp_id\tvarchar(100),\n",
    "#     cat_alias VARCHAR(40),\n",
    "#     lat\tINT UNSIGNED,\n",
    "#     long INT, \n",
    "#     name VARCHAR(50),\n",
    "#     street_address VARCHAR(100),\t\n",
    "#     zip\tINT UNSIGNED,\n",
    "#     city VARCHAR(50),\n",
    "#     price VARCHAR(5),\n",
    "#     rating FLOAT UNSIGNED,\n",
    "#     review_count INT UNSIGNED,\n",
    "#     distance_from_bike_stn FLOAT UNSIGNED,\n",
    "#     PRIMARY KEY (reference_bike_stn, yelp_id)\n",
    "# );\n",
    "# \"\"\")"
   ]
  },
  {
   "cell_type": "code",
   "execution_count": 57,
   "metadata": {},
   "outputs": [],
   "source": [
    "# sqllite_database.populate_yelp_sqllite(con, cur, yelp_df)"
   ]
  },
  {
   "cell_type": "code",
   "execution_count": 58,
   "metadata": {},
   "outputs": [
    {
     "name": "stdout",
     "output_type": "stream",
     "text": [
      "27315\n"
     ]
    }
   ],
   "source": [
    "cur.execute(\"SELECT COUNT(*) FROM yelp;\")\n",
    "row = cur.fetchone()\n",
    "print(row[0])"
   ]
  },
  {
   "cell_type": "code",
   "execution_count": 68,
   "metadata": {},
   "outputs": [
    {
     "name": "stdout",
     "output_type": "stream",
     "text": [
      "('d0e8f4f1834b7b33a3faf8882f567ab8', 'OjMumhyL26n5fDZ2CQLnyg', 'ethiopian', 37.850300662973346, -122.27126646102298, 'Lemat', '3212 Adeline St', 94703, 'Berkeley', '$$', 4.4, 239, 87)\n",
      "('d0e8f4f1834b7b33a3faf8882f567ab8', '-EpmBwODsvQ6gHx2IuVO5w', 'cafes', 37.85001740687401, -122.27053198326358, 'El Tiny Cafe', '3219 Adeline St', 94703, 'Berkeley', None, 4.8, 60, 32)\n",
      "('d0e8f4f1834b7b33a3faf8882f567ab8', 'shRP4Vxu2hDdmdsHf-5DmQ', 'burgers', 37.84852, -122.26038, 'A+ Burger', '6228 Telegraph Ave', 94609, 'Oakland', '$$', 4.4, 859, 896)\n",
      "('d0e8f4f1834b7b33a3faf8882f567ab8', 'pJdwr6JoCVXTKbdJlm-rdg', 'italian', 37.8509, -122.2782, 'Creekwood', '3121 Sacramento St', 94702, 'Berkeley', '$$', 4.6, 481, 684)\n",
      "('d0e8f4f1834b7b33a3faf8882f567ab8', 'nt46Amrqx5qwTyNEcO54ew', 'burgers', 37.84382, -122.27675, 'Sideshow Kitchen', '942 Stanford Ave', 94608, 'Oakland', '$$', 4.4, 496, 854)\n"
     ]
    }
   ],
   "source": [
    "cur.execute(\"SELECT * FROM yelp LIMIT 5;\")\n",
    "rows = cur.fetchall()\n",
    "for row in rows:\n",
    "    print(row)"
   ]
  },
  {
   "cell_type": "code",
   "execution_count": 59,
   "metadata": {},
   "outputs": [],
   "source": [
    "cur.execute(\"UPDATE yelp SET yelp_id = TRIM(yelp_id), cat_alias = TRIM(cat_alias), name = TRIM(name), street_address = TRIM(street_address);\")\n",
    "con.commit()"
   ]
  },
  {
   "cell_type": "code",
   "execution_count": 67,
   "metadata": {},
   "outputs": [],
   "source": [
    "cur.execute(\"\"\"\n",
    "CREATE TABLE new_yelp AS\n",
    "SELECT reference_bike_stn, yelp_id, cat_alias, lat, long, name, street_address, zip, city, price, rating, review_count, CAST(distance_from_bike_stn AS INTEGER) AS distance_from_bike_stn\n",
    "FROM yelp;\n",
    "\"\"\")\n",
    "cur.execute(\"DROP TABLE yelp;\")\n",
    "cur.execute(\"ALTER TABLE new_yelp RENAME TO yelp;\")\n",
    "con.commit()"
   ]
  },
  {
   "cell_type": "code",
   "execution_count": 86,
   "metadata": {},
   "outputs": [],
   "source": [
    "cur.execute(\"\"\"\n",
    "CREATE TABLE temp_yelp (\n",
    "    reference_bike_stn TEXT,\n",
    "    yelp_id TEXT,\n",
    "    cat_alias TEXT,\n",
    "    lat INT,\n",
    "    long INT,\n",
    "    name TEXT,\n",
    "    street_address TEXT,\n",
    "    zip INT,\n",
    "    city TEXT,\n",
    "    price TEXT,\n",
    "    rating REAL,\n",
    "    review_count INT,\n",
    "    distance_from_bike_stn INT,\n",
    "    PRIMARY KEY (reference_bike_stn, yelp_id),\n",
    "    FOREIGN KEY (reference_bike_stn) REFERENCES citybikes(id)\n",
    ");\n",
    "\"\"\")\n",
    "\n",
    "cur.execute(\"INSERT INTO temp_yelp SELECT * FROM yelp;\")\n",
    "cur.execute(\"DROP TABLE yelp;\")\n",
    "cur.execute(\"ALTER TABLE temp_yelp RENAME TO yelp;\")\n",
    "con.commit()"
   ]
  },
  {
   "cell_type": "code",
   "execution_count": 87,
   "metadata": {},
   "outputs": [
    {
     "name": "stdout",
     "output_type": "stream",
     "text": [
      "(0, 'reference_bike_stn', 'TEXT', 0, None, 1)\n",
      "(1, 'yelp_id', 'TEXT', 0, None, 2)\n",
      "(2, 'cat_alias', 'TEXT', 0, None, 0)\n",
      "(3, 'lat', 'INT', 0, None, 0)\n",
      "(4, 'long', 'INT', 0, None, 0)\n",
      "(5, 'name', 'TEXT', 0, None, 0)\n",
      "(6, 'street_address', 'TEXT', 0, None, 0)\n",
      "(7, 'zip', 'INT', 0, None, 0)\n",
      "(8, 'city', 'TEXT', 0, None, 0)\n",
      "(9, 'price', 'TEXT', 0, None, 0)\n",
      "(10, 'rating', 'REAL', 0, None, 0)\n",
      "(11, 'review_count', 'INT', 0, None, 0)\n",
      "(12, 'distance_from_bike_stn', 'INT', 0, None, 0)\n"
     ]
    }
   ],
   "source": [
    "cur.execute(\"PRAGMA table_info(yelp);\")\n",
    "rows = cur.fetchall()\n",
    "for row in rows:\n",
    "    print(row)"
   ]
  },
  {
   "cell_type": "code",
   "execution_count": null,
   "metadata": {},
   "outputs": [],
   "source": []
  },
  {
   "cell_type": "code",
   "execution_count": null,
   "metadata": {},
   "outputs": [],
   "source": []
  },
  {
   "cell_type": "code",
   "execution_count": null,
   "metadata": {},
   "outputs": [],
   "source": []
  },
  {
   "cell_type": "code",
   "execution_count": null,
   "metadata": {},
   "outputs": [],
   "source": []
  },
  {
   "cell_type": "code",
   "execution_count": null,
   "metadata": {},
   "outputs": [],
   "source": []
  },
  {
   "cell_type": "markdown",
   "metadata": {},
   "source": [
    "Provide a visualization that you used as part of your EDA process. Explain the initial pattern or relationship you discoved through this visualization. "
   ]
  },
  {
   "cell_type": "markdown",
   "metadata": {},
   "source": [
    "Look at the data before and after the join to validate your data."
   ]
  },
  {
   "cell_type": "code",
   "execution_count": null,
   "metadata": {},
   "outputs": [],
   "source": []
  }
 ],
 "metadata": {
  "kernelspec": {
   "display_name": "Python 3",
   "language": "python",
   "name": "python3"
  },
  "language_info": {
   "codemirror_mode": {
    "name": "ipython",
    "version": 3
   },
   "file_extension": ".py",
   "mimetype": "text/x-python",
   "name": "python",
   "nbconvert_exporter": "python",
   "pygments_lexer": "ipython3",
   "version": "3.10.9"
  }
 },
 "nbformat": 4,
 "nbformat_minor": 4
}
