{
 "cells": [
  {
   "cell_type": "code",
   "execution_count": 1,
   "metadata": {},
   "outputs": [],
   "source": [
    "import pandas as pd\n",
    "import pickle\n",
    "import os \n",
    "import sqlite3\n",
    "import re\n",
    "import sys\n",
    "sys.path.append('..\\\\src')\n",
    "import sqllite_database"
   ]
  },
  {
   "cell_type": "markdown",
   "metadata": {},
   "source": [
    "# Database"
   ]
  },
  {
   "cell_type": "markdown",
   "metadata": {},
   "source": [
    "Put all your results in an SQLite3 database (remember, SQLite stores its databases as files in your local machine - make sure to create your database in your project's data/ directory!)"
   ]
  },
  {
   "cell_type": "code",
   "execution_count": 6,
   "metadata": {},
   "outputs": [],
   "source": [
    "con = sqlite3.connect(\"../data/biking_bayarea.db\")"
   ]
  },
  {
   "cell_type": "code",
   "execution_count": 7,
   "metadata": {},
   "outputs": [],
   "source": [
    "cur = con.cursor() # create database cursor, used to execute SQL queries & fetch results"
   ]
  },
  {
   "cell_type": "code",
   "execution_count": 5,
   "metadata": {},
   "outputs": [
    {
     "ename": "OperationalError",
     "evalue": "table citybikes already exists",
     "output_type": "error",
     "traceback": [
      "\u001b[1;31m---------------------------------------------------------------------------\u001b[0m",
      "\u001b[1;31mOperationalError\u001b[0m                          Traceback (most recent call last)",
      "Cell \u001b[1;32mIn[5], line 1\u001b[0m\n\u001b[1;32m----> 1\u001b[0m \u001b[43mcur\u001b[49m\u001b[38;5;241;43m.\u001b[39;49m\u001b[43mexecute\u001b[49m\u001b[43m(\u001b[49m\u001b[38;5;124;43m\"\"\"\u001b[39;49m\n\u001b[0;32m      2\u001b[0m \u001b[38;5;124;43mCREATE TABLE citybikes (\u001b[39;49m\n\u001b[0;32m      3\u001b[0m \u001b[38;5;124;43m    name VARCHAR(50),\u001b[39;49m\n\u001b[0;32m      4\u001b[0m \u001b[38;5;124;43m    id VARCHAR(100) PRIMARY KEY NOT NULL,\u001b[39;49m\n\u001b[0;32m      5\u001b[0m \u001b[38;5;124;43m    timestamp TIMESTAMP,\u001b[39;49m\n\u001b[0;32m      6\u001b[0m \u001b[38;5;124;43m    longitude VARCHAR(50),\u001b[39;49m\n\u001b[0;32m      7\u001b[0m \u001b[38;5;124;43m    latitude VARCHAR(50),\u001b[39;49m\n\u001b[0;32m      8\u001b[0m \u001b[38;5;124;43m    slots INT UNSIGNED,\u001b[39;49m\n\u001b[0;32m      9\u001b[0m \u001b[38;5;124;43m    free_bikes INT UNSIGNED,\u001b[39;49m\n\u001b[0;32m     10\u001b[0m \u001b[38;5;124;43m    empty_slots INT UNSIGNED,\u001b[39;49m\n\u001b[0;32m     11\u001b[0m \u001b[38;5;124;43m    has_ebikes BOOLEAN,\u001b[39;49m\n\u001b[0;32m     12\u001b[0m \u001b[38;5;124;43m    ebikes INT UNSIGNED,\u001b[39;49m\n\u001b[0;32m     13\u001b[0m \u001b[38;5;124;43m    payment VARCHAR(50),\u001b[39;49m\n\u001b[0;32m     14\u001b[0m \u001b[38;5;124;43m    renting INT UNSIGNED,\u001b[39;49m\n\u001b[0;32m     15\u001b[0m \u001b[38;5;124;43m    is_returning INT UNSIGNED\u001b[39;49m\n\u001b[0;32m     16\u001b[0m \u001b[38;5;124;43m);\u001b[39;49m\n\u001b[0;32m     17\u001b[0m \u001b[38;5;124;43m\"\"\"\u001b[39;49m\u001b[43m)\u001b[49m\n",
      "\u001b[1;31mOperationalError\u001b[0m: table citybikes already exists"
     ]
    }
   ],
   "source": [
    "# cur.execute(\"\"\"\n",
    "# CREATE TABLE citybikes (\n",
    "#     name VARCHAR(50),\n",
    "#     id VARCHAR(100) PRIMARY KEY NOT NULL,\n",
    "#     timestamp TIMESTAMP,\n",
    "#     longitude VARCHAR(50),\n",
    "#     latitude VARCHAR(50),\n",
    "#     slots INT UNSIGNED,\n",
    "#     free_bikes INT UNSIGNED,\n",
    "#     empty_slots INT UNSIGNED,\n",
    "#     has_ebikes BOOLEAN,\n",
    "#     ebikes INT UNSIGNED,\n",
    "#     payment VARCHAR(50),\n",
    "#     renting INT UNSIGNED,\n",
    "#     is_returning INT UNSIGNED\n",
    "# );\n",
    "# \"\"\")"
   ]
  },
  {
   "cell_type": "code",
   "execution_count": 13,
   "metadata": {},
   "outputs": [],
   "source": [
    "# sqllite_database.populate_citybikes_sqllite(con, cur, citybikes_df)"
   ]
  },
  {
   "cell_type": "code",
   "execution_count": 8,
   "metadata": {},
   "outputs": [
    {
     "name": "stdout",
     "output_type": "stream",
     "text": [
      "555\n"
     ]
    }
   ],
   "source": [
    "cur.execute(\"SELECT COUNT(*) FROM citybikes;\")\n",
    "row = cur.fetchone()\n",
    "print(row[0])"
   ]
  },
  {
   "cell_type": "code",
   "execution_count": 79,
   "metadata": {},
   "outputs": [
    {
     "name": "stdout",
     "output_type": "stream",
     "text": [
      "(0, 'name', 'VARCHAR(50)', 0, None, 0)\n",
      "(1, 'id', 'VARCHAR(100)', 1, None, 1)\n",
      "(2, 'timestamp', 'TIMESTAMP', 0, None, 0)\n",
      "(3, 'longitude', 'VARCHAR(50)', 0, None, 0)\n",
      "(4, 'latitude', 'VARCHAR(50)', 0, None, 0)\n",
      "(5, 'slots', 'INT UNSIGNED', 0, None, 0)\n",
      "(6, 'free_bikes', 'INT UNSIGNED', 0, None, 0)\n",
      "(7, 'empty_slots', 'INT UNSIGNED', 0, None, 0)\n",
      "(8, 'has_ebikes', 'BOOLEAN', 0, None, 0)\n",
      "(9, 'ebikes', 'INT UNSIGNED', 0, None, 0)\n",
      "(10, 'renting', 'INT UNSIGNED', 0, None, 0)\n",
      "(11, 'is_returning', 'INT UNSIGNED', 0, None, 0)\n"
     ]
    }
   ],
   "source": [
    "cur.execute(\"PRAGMA table_info(citybikes);\")\n",
    "rows = cur.fetchall()\n",
    "for row in rows:\n",
    "    print(row)"
   ]
  },
  {
   "cell_type": "code",
   "execution_count": 17,
   "metadata": {},
   "outputs": [],
   "source": [
    "cur.execute(\"UPDATE citybikes SET payment = REPLACE(payment, '''', '')\")\n",
    "con.commit()\n",
    "\n",
    "cur.execute(\"SELECT * FROM citybikes LIMIT 5;\")\n",
    "rows = cur.fetchall()\n",
    "for row in rows:\n",
    "    print(row)"
   ]
  },
  {
   "cell_type": "code",
   "execution_count": 14,
   "metadata": {},
   "outputs": [],
   "source": [
    "# cur.execute(\"ALTER TABLE citybikes DROP COLUMN payment\")\n",
    "# con.commit()"
   ]
  },
  {
   "cell_type": "code",
   "execution_count": 18,
   "metadata": {},
   "outputs": [],
   "source": [
    "# cur.execute(\"UPDATE citybikes SET name = TRIM(name), id = TRIM(id);\")\n",
    "# con.commit()"
   ]
  },
  {
   "cell_type": "code",
   "execution_count": 90,
   "metadata": {},
   "outputs": [
    {
     "data": {
      "text/plain": [
       "<sqlite3.Cursor at 0x1fb5f59e9c0>"
      ]
     },
     "execution_count": 90,
     "metadata": {},
     "output_type": "execute_result"
    }
   ],
   "source": [
    "# cur.execute(\"\"\"\n",
    "# CREATE TABLE fsq (\n",
    "#     reference_bike_stn VARCHAR(100),\n",
    "#     fsq_id VARCHAR(100),\n",
    "#     cat_id INT UNSIGNED,\n",
    "#     cat_name VARCHAR(100),\n",
    "#     lat SMALLINT UNSIGNED,\n",
    "#     long SMALLINT,\n",
    "#     name VARCHAR(100),\n",
    "#     street_address VARCHAR(100),\n",
    "#     zip INT UNSIGNED,\n",
    "#     locality VARCHAR(50),\n",
    "#     distance SMALLINT UNSIGNED,\n",
    "#     PRIMARY KEY (reference_bike_stn, fsq_id),\n",
    "#     FOREIGN KEY (reference_bike_stn) REFERENCES citybikes(id)\n",
    "# );\n",
    "# \"\"\")"
   ]
  },
  {
   "cell_type": "code",
   "execution_count": null,
   "metadata": {},
   "outputs": [],
   "source": []
  },
  {
   "cell_type": "code",
   "execution_count": 91,
   "metadata": {},
   "outputs": [],
   "source": [
    "# sqllite_database.populate_fsq_sqllite(con, cur, fsq_places)"
   ]
  },
  {
   "cell_type": "code",
   "execution_count": 92,
   "metadata": {},
   "outputs": [
    {
     "name": "stdout",
     "output_type": "stream",
     "text": [
      "25677\n"
     ]
    }
   ],
   "source": [
    "cur.execute(\"SELECT COUNT(*) FROM fsq;\")\n",
    "row = cur.fetchone()\n",
    "print(row[0])"
   ]
  },
  {
   "cell_type": "code",
   "execution_count": 96,
   "metadata": {},
   "outputs": [
    {
     "name": "stdout",
     "output_type": "stream",
     "text": [
      "('d0e8f4f1834b7b33a3faf8882f567ab8', '4b3fc82cf964a520a1ae25e3', 13303, 'Mexican Restaurant', 37.850052, -122.270523, 'Las Palmas Super Burritos and Heros', '3221 Adeline St', 94703, 'Berkeley', 33)\n",
      "('d0e8f4f1834b7b33a3faf8882f567ab8', '57da76a603a44d3f9b3ddd3b', 10004, 'Art Gallery', 37.849798, -122.271728, 'Firehouse Collective East/West Art Studios', '1835 Harmon St', 94703, 'Berkeley', 100)\n",
      "('d0e8f4f1834b7b33a3faf8882f567ab8', '4b64bd80f964a52074cc2ae3', 13064, 'Pizzeria', 37.849316, -122.271629, \"Domino's Pizza\", '3264 Adeline St', 94703, 'Berkeley', 113)\n",
      "('d0e8f4f1834b7b33a3faf8882f567ab8', '4c12e9a51b5cef3b9cd7edc4', 13102, 'Cantonese Restaurant', 37.848703, -122.27066, \"Chen's Garden\", '1818 Alcatraz Ave', 94703, 'Berkeley', 119)\n",
      "('d0e8f4f1834b7b33a3faf8882f567ab8', '52fe4532498e80c8d231d768', 13034, 'Café', 37.850958, -122.271077, 'Rasa Caffe', '3140 Martin Luther King Jr Way', 94703, 'Berkeley', 141)\n"
     ]
    }
   ],
   "source": [
    "cur.execute(\"SELECT * FROM fsq LIMIT 5;\")\n",
    "rows = cur.fetchall()\n",
    "for row in rows:\n",
    "    print(row)"
   ]
  },
  {
   "cell_type": "code",
   "execution_count": 94,
   "metadata": {},
   "outputs": [],
   "source": [
    "cur.execute(\"\"\"\n",
    "UPDATE fsq\n",
    "SET name = TRIM(name),\n",
    "    reference_bike_stn = TRIM(reference_bike_stn),\n",
    "    fsq_id = TRIM(fsq_id),\n",
    "    cat_name = TRIM(cat_name),\n",
    "    locality = TRIM(locality);\n",
    "\"\"\")\n",
    "con.commit()\n"
   ]
  },
  {
   "cell_type": "code",
   "execution_count": 95,
   "metadata": {},
   "outputs": [
    {
     "name": "stdout",
     "output_type": "stream",
     "text": [
      "(0, 'reference_bike_stn', 'VARCHAR(100)', 0, None, 1)\n",
      "(1, 'fsq_id', 'VARCHAR(100)', 0, None, 2)\n",
      "(2, 'cat_id', 'INT UNSIGNED', 0, None, 0)\n",
      "(3, 'cat_name', 'VARCHAR(100)', 0, None, 0)\n",
      "(4, 'lat', 'SMALLINT UNSIGNED', 0, None, 0)\n",
      "(5, 'long', 'SMALLINT', 0, None, 0)\n",
      "(6, 'name', 'VARCHAR(100)', 0, None, 0)\n",
      "(7, 'street_address', 'VARCHAR(100)', 0, None, 0)\n",
      "(8, 'zip', 'INT UNSIGNED', 0, None, 0)\n",
      "(9, 'locality', 'VARCHAR(50)', 0, None, 0)\n",
      "(10, 'distance', 'SMALLINT UNSIGNED', 0, None, 0)\n"
     ]
    }
   ],
   "source": [
    "cur.execute(\"PRAGMA table_info(fsq);\")\n",
    "rows = cur.fetchall()\n",
    "for row in rows:\n",
    "    print(row)"
   ]
  },
  {
   "cell_type": "code",
   "execution_count": null,
   "metadata": {},
   "outputs": [],
   "source": []
  },
  {
   "cell_type": "code",
   "execution_count": null,
   "metadata": {},
   "outputs": [],
   "source": []
  },
  {
   "cell_type": "code",
   "execution_count": 40,
   "metadata": {},
   "outputs": [],
   "source": [
    "# cur.execute(\"ALTER TABLE fsq DROP COLUMN cat_id;\")\n",
    "# con.commit()"
   ]
  },
  {
   "cell_type": "code",
   "execution_count": 56,
   "metadata": {},
   "outputs": [
    {
     "data": {
      "text/plain": [
       "<sqlite3.Cursor at 0x1fb5f59e9c0>"
      ]
     },
     "execution_count": 56,
     "metadata": {},
     "output_type": "execute_result"
    }
   ],
   "source": [
    "# cur.execute(\"\"\"\n",
    "# CREATE TABLE yelp (\n",
    "#     reference_bike_stn VARCHAR(100),\t\n",
    "#     yelp_id\tvarchar(100),\n",
    "#     cat_alias VARCHAR(40),\n",
    "#     lat\tINT UNSIGNED,\n",
    "#     long INT, \n",
    "#     name VARCHAR(50),\n",
    "#     street_address VARCHAR(100),\t\n",
    "#     zip\tINT UNSIGNED,\n",
    "#     city VARCHAR(50),\n",
    "#     price VARCHAR(5),\n",
    "#     rating FLOAT UNSIGNED,\n",
    "#     review_count INT UNSIGNED,\n",
    "#     distance_from_bike_stn FLOAT UNSIGNED,\n",
    "#     PRIMARY KEY (reference_bike_stn, yelp_id)\n",
    "# );\n",
    "# \"\"\")"
   ]
  },
  {
   "cell_type": "code",
   "execution_count": 57,
   "metadata": {},
   "outputs": [],
   "source": [
    "# sqllite_database.populate_yelp_sqllite(con, cur, yelp_df)"
   ]
  },
  {
   "cell_type": "code",
   "execution_count": 58,
   "metadata": {},
   "outputs": [
    {
     "name": "stdout",
     "output_type": "stream",
     "text": [
      "27315\n"
     ]
    }
   ],
   "source": [
    "cur.execute(\"SELECT COUNT(*) FROM yelp;\")\n",
    "row = cur.fetchone()\n",
    "print(row[0])"
   ]
  },
  {
   "cell_type": "code",
   "execution_count": 68,
   "metadata": {},
   "outputs": [
    {
     "name": "stdout",
     "output_type": "stream",
     "text": [
      "('d0e8f4f1834b7b33a3faf8882f567ab8', 'OjMumhyL26n5fDZ2CQLnyg', 'ethiopian', 37.850300662973346, -122.27126646102298, 'Lemat', '3212 Adeline St', 94703, 'Berkeley', '$$', 4.4, 239, 87)\n",
      "('d0e8f4f1834b7b33a3faf8882f567ab8', '-EpmBwODsvQ6gHx2IuVO5w', 'cafes', 37.85001740687401, -122.27053198326358, 'El Tiny Cafe', '3219 Adeline St', 94703, 'Berkeley', None, 4.8, 60, 32)\n",
      "('d0e8f4f1834b7b33a3faf8882f567ab8', 'shRP4Vxu2hDdmdsHf-5DmQ', 'burgers', 37.84852, -122.26038, 'A+ Burger', '6228 Telegraph Ave', 94609, 'Oakland', '$$', 4.4, 859, 896)\n",
      "('d0e8f4f1834b7b33a3faf8882f567ab8', 'pJdwr6JoCVXTKbdJlm-rdg', 'italian', 37.8509, -122.2782, 'Creekwood', '3121 Sacramento St', 94702, 'Berkeley', '$$', 4.6, 481, 684)\n",
      "('d0e8f4f1834b7b33a3faf8882f567ab8', 'nt46Amrqx5qwTyNEcO54ew', 'burgers', 37.84382, -122.27675, 'Sideshow Kitchen', '942 Stanford Ave', 94608, 'Oakland', '$$', 4.4, 496, 854)\n"
     ]
    }
   ],
   "source": [
    "cur.execute(\"SELECT * FROM yelp LIMIT 5;\")\n",
    "rows = cur.fetchall()\n",
    "for row in rows:\n",
    "    print(row)"
   ]
  },
  {
   "cell_type": "code",
   "execution_count": 59,
   "metadata": {},
   "outputs": [],
   "source": [
    "cur.execute(\"UPDATE yelp SET yelp_id = TRIM(yelp_id), cat_alias = TRIM(cat_alias), name = TRIM(name), street_address = TRIM(street_address);\")\n",
    "con.commit()"
   ]
  },
  {
   "cell_type": "code",
   "execution_count": 67,
   "metadata": {},
   "outputs": [],
   "source": [
    "cur.execute(\"\"\"\n",
    "CREATE TABLE new_yelp AS\n",
    "SELECT reference_bike_stn, yelp_id, cat_alias, lat, long, name, street_address, zip, city, price, rating, review_count, CAST(distance_from_bike_stn AS INTEGER) AS distance_from_bike_stn\n",
    "FROM yelp;\n",
    "\"\"\")\n",
    "cur.execute(\"DROP TABLE yelp;\")\n",
    "cur.execute(\"ALTER TABLE new_yelp RENAME TO yelp;\")\n",
    "con.commit()"
   ]
  },
  {
   "cell_type": "code",
   "execution_count": 86,
   "metadata": {},
   "outputs": [],
   "source": [
    "cur.execute(\"\"\"\n",
    "CREATE TABLE temp_yelp (\n",
    "    reference_bike_stn TEXT,\n",
    "    yelp_id TEXT,\n",
    "    cat_alias TEXT,\n",
    "    lat INT,\n",
    "    long INT,\n",
    "    name TEXT,\n",
    "    street_address TEXT,\n",
    "    zip INT,\n",
    "    city TEXT,\n",
    "    price TEXT,\n",
    "    rating REAL,\n",
    "    review_count INT,\n",
    "    distance_from_bike_stn INT,\n",
    "    PRIMARY KEY (reference_bike_stn, yelp_id),\n",
    "    FOREIGN KEY (reference_bike_stn) REFERENCES citybikes(id)\n",
    ");\n",
    "\"\"\")\n",
    "\n",
    "cur.execute(\"INSERT INTO temp_yelp SELECT * FROM yelp;\")\n",
    "cur.execute(\"DROP TABLE yelp;\")\n",
    "cur.execute(\"ALTER TABLE temp_yelp RENAME TO yelp;\")\n",
    "con.commit()"
   ]
  },
  {
   "cell_type": "code",
   "execution_count": 10,
   "metadata": {},
   "outputs": [
    {
     "name": "stdout",
     "output_type": "stream",
     "text": [
      "(0, 'reference_bike_stn', 'TEXT', 0, None, 1)\n",
      "(1, 'yelp_id', 'TEXT', 0, None, 2)\n",
      "(2, 'cat_alias', 'TEXT', 0, None, 0)\n",
      "(3, 'lat', 'INT', 0, None, 0)\n",
      "(4, 'long', 'INT', 0, None, 0)\n",
      "(5, 'name', 'TEXT', 0, None, 0)\n",
      "(6, 'street_address', 'TEXT', 0, None, 0)\n",
      "(7, 'zip', 'INT', 0, None, 0)\n",
      "(8, 'city', 'TEXT', 0, None, 0)\n",
      "(9, 'price', 'TEXT', 0, None, 0)\n",
      "(10, 'rating', 'REAL', 0, None, 0)\n",
      "(11, 'review_count', 'INT', 0, None, 0)\n",
      "(12, 'distance_from_bike_stn', 'INT', 0, None, 0)\n"
     ]
    }
   ],
   "source": [
    "cur.execute(\"PRAGMA table_info(yelp);\")\n",
    "rows = cur.fetchall()\n",
    "for row in rows:\n",
    "    print(row)"
   ]
  },
  {
   "cell_type": "code",
   "execution_count": null,
   "metadata": {},
   "outputs": [],
   "source": []
  },
  {
   "cell_type": "code",
   "execution_count": null,
   "metadata": {},
   "outputs": [],
   "source": []
  },
  {
   "cell_type": "code",
   "execution_count": null,
   "metadata": {},
   "outputs": [],
   "source": []
  },
  {
   "cell_type": "code",
   "execution_count": null,
   "metadata": {},
   "outputs": [],
   "source": []
  },
  {
   "cell_type": "code",
   "execution_count": null,
   "metadata": {},
   "outputs": [],
   "source": []
  },
  {
   "cell_type": "code",
   "execution_count": null,
   "metadata": {},
   "outputs": [],
   "source": []
  },
  {
   "cell_type": "code",
   "execution_count": null,
   "metadata": {},
   "outputs": [],
   "source": []
  },
  {
   "cell_type": "code",
   "execution_count": null,
   "metadata": {},
   "outputs": [],
   "source": []
  },
  {
   "cell_type": "code",
   "execution_count": null,
   "metadata": {},
   "outputs": [],
   "source": []
  }
 ],
 "metadata": {
  "kernelspec": {
   "display_name": "Python 3",
   "language": "python",
   "name": "python3"
  },
  "language_info": {
   "codemirror_mode": {
    "name": "ipython",
    "version": 3
   },
   "file_extension": ".py",
   "mimetype": "text/x-python",
   "name": "python",
   "nbconvert_exporter": "python",
   "pygments_lexer": "ipython3",
   "version": "3.10.14"
  }
 },
 "nbformat": 4,
 "nbformat_minor": 4
}
