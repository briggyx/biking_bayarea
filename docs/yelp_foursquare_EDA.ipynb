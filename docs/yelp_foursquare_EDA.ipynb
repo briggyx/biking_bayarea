{
 "cells": [
  {
   "cell_type": "code",
   "execution_count": 11,
   "metadata": {},
   "outputs": [],
   "source": [
    "import requests\n",
    "import pandas as pd\n",
    "import pickle\n",
    "import json\n",
    "import os\n",
    "import keyring\n",
    "\n",
    "import sys\n",
    "\n",
    "sys.path.append('..\\\\src')\n",
    "import fsq_yelp_parsing"
   ]
  },
  {
   "cell_type": "markdown",
   "metadata": {},
   "source": [
    "# Foursquare & Yelp APIs"
   ]
  },
  {
   "cell_type": "markdown",
   "metadata": {},
   "source": [
    "Since a typical 5-minute bike ride covers about 1000-1100 meters, I'll look within a 1000-meter radius around bike stations and arrange the results by distance.\n",
    "\n",
    "Imagine a scenario where someone is planning a day out with friends, biking between places. They'll start from a meeting spot reached by public transport. They're looking for places with activities suitable for groups, like artsy spots, outdoor fun, places to eat, and activities that are not too strenuous."
   ]
  },
  {
   "cell_type": "code",
   "execution_count": 2,
   "metadata": {},
   "outputs": [
    {
     "data": {
      "text/html": [
       "<div>\n",
       "<style scoped>\n",
       "    .dataframe tbody tr th:only-of-type {\n",
       "        vertical-align: middle;\n",
       "    }\n",
       "\n",
       "    .dataframe tbody tr th {\n",
       "        vertical-align: top;\n",
       "    }\n",
       "\n",
       "    .dataframe thead th {\n",
       "        text-align: right;\n",
       "    }\n",
       "</style>\n",
       "<table border=\"1\" class=\"dataframe\">\n",
       "  <thead>\n",
       "    <tr style=\"text-align: right;\">\n",
       "      <th></th>\n",
       "      <th>name</th>\n",
       "      <th>id</th>\n",
       "      <th>timestamp</th>\n",
       "      <th>longitude</th>\n",
       "      <th>latitude</th>\n",
       "      <th>slots</th>\n",
       "      <th>free_bikes</th>\n",
       "      <th>empty_slots</th>\n",
       "      <th>has_ebikes</th>\n",
       "      <th>ebikes</th>\n",
       "      <th>payment</th>\n",
       "      <th>renting</th>\n",
       "      <th>returning</th>\n",
       "    </tr>\n",
       "  </thead>\n",
       "  <tbody>\n",
       "    <tr>\n",
       "      <th>0</th>\n",
       "      <td>Harmon St at Adeline St</td>\n",
       "      <td>d0e8f4f1834b7b33a3faf8882f567ab8</td>\n",
       "      <td>2024-04-02T18:29:27.066000Z</td>\n",
       "      <td>-122.270582</td>\n",
       "      <td>37.849735</td>\n",
       "      <td>15</td>\n",
       "      <td>9</td>\n",
       "      <td>6</td>\n",
       "      <td>True</td>\n",
       "      <td>0</td>\n",
       "      <td>[key, creditcard]</td>\n",
       "      <td>1</td>\n",
       "      <td>1</td>\n",
       "    </tr>\n",
       "    <tr>\n",
       "      <th>1</th>\n",
       "      <td>Fountain Alley at S 2nd St</td>\n",
       "      <td>983514094dd808b1604da2dcfc2d09af</td>\n",
       "      <td>2024-04-02T18:29:26.582000Z</td>\n",
       "      <td>-121.889277</td>\n",
       "      <td>37.336188</td>\n",
       "      <td>11</td>\n",
       "      <td>8</td>\n",
       "      <td>3</td>\n",
       "      <td>True</td>\n",
       "      <td>6</td>\n",
       "      <td>[key, creditcard]</td>\n",
       "      <td>1</td>\n",
       "      <td>1</td>\n",
       "    </tr>\n",
       "    <tr>\n",
       "      <th>2</th>\n",
       "      <td>Oak St at 1st St</td>\n",
       "      <td>da17603652106fda93da4e255a5b0a22</td>\n",
       "      <td>2024-04-02T18:29:27.044000Z</td>\n",
       "      <td>-121.88109</td>\n",
       "      <td>37.322125</td>\n",
       "      <td>23</td>\n",
       "      <td>14</td>\n",
       "      <td>9</td>\n",
       "      <td>True</td>\n",
       "      <td>7</td>\n",
       "      <td>[key, creditcard]</td>\n",
       "      <td>1</td>\n",
       "      <td>1</td>\n",
       "    </tr>\n",
       "    <tr>\n",
       "      <th>3</th>\n",
       "      <td>Bestor Art Park</td>\n",
       "      <td>7a21c92b3b4cd2f7759107b4fdebf869</td>\n",
       "      <td>2024-04-02T18:29:26.797000Z</td>\n",
       "      <td>-121.874119</td>\n",
       "      <td>37.323678</td>\n",
       "      <td>15</td>\n",
       "      <td>12</td>\n",
       "      <td>3</td>\n",
       "      <td>True</td>\n",
       "      <td>3</td>\n",
       "      <td>[key, creditcard]</td>\n",
       "      <td>1</td>\n",
       "      <td>1</td>\n",
       "    </tr>\n",
       "    <tr>\n",
       "      <th>4</th>\n",
       "      <td>5th St at Virginia St</td>\n",
       "      <td>ce34d38fb230a23c1ced12d1e16df294</td>\n",
       "      <td>2024-04-02T18:29:26.971000Z</td>\n",
       "      <td>-121.87712</td>\n",
       "      <td>37.325998</td>\n",
       "      <td>27</td>\n",
       "      <td>19</td>\n",
       "      <td>7</td>\n",
       "      <td>True</td>\n",
       "      <td>12</td>\n",
       "      <td>[key, creditcard]</td>\n",
       "      <td>1</td>\n",
       "      <td>1</td>\n",
       "    </tr>\n",
       "  </tbody>\n",
       "</table>\n",
       "</div>"
      ],
      "text/plain": [
       "                         name                                id  \\\n",
       "0     Harmon St at Adeline St  d0e8f4f1834b7b33a3faf8882f567ab8   \n",
       "1  Fountain Alley at S 2nd St  983514094dd808b1604da2dcfc2d09af   \n",
       "2            Oak St at 1st St  da17603652106fda93da4e255a5b0a22   \n",
       "3             Bestor Art Park  7a21c92b3b4cd2f7759107b4fdebf869   \n",
       "4       5th St at Virginia St  ce34d38fb230a23c1ced12d1e16df294   \n",
       "\n",
       "                     timestamp   longitude   latitude slots free_bikes  \\\n",
       "0  2024-04-02T18:29:27.066000Z -122.270582  37.849735    15          9   \n",
       "1  2024-04-02T18:29:26.582000Z -121.889277  37.336188    11          8   \n",
       "2  2024-04-02T18:29:27.044000Z  -121.88109  37.322125    23         14   \n",
       "3  2024-04-02T18:29:26.797000Z -121.874119  37.323678    15         12   \n",
       "4  2024-04-02T18:29:26.971000Z  -121.87712  37.325998    27         19   \n",
       "\n",
       "  empty_slots has_ebikes ebikes            payment renting returning  \n",
       "0           6       True      0  [key, creditcard]       1         1  \n",
       "1           3       True      6  [key, creditcard]       1         1  \n",
       "2           9       True      7  [key, creditcard]       1         1  \n",
       "3           3       True      3  [key, creditcard]       1         1  \n",
       "4           7       True     12  [key, creditcard]       1         1  "
      ]
     },
     "execution_count": 2,
     "metadata": {},
     "output_type": "execute_result"
    }
   ],
   "source": [
    "# UNPICKLE CITYBIKES DF\n",
    "with open('../data/citybikes_filled_df.pickle', 'rb') as df:\n",
    "    citybikes_df = pickle.load(df)\n",
    "\n",
    "citybikes_df.head(5)"
   ]
  },
  {
   "cell_type": "code",
   "execution_count": 3,
   "metadata": {},
   "outputs": [],
   "source": [
    "fsq_api_key = keyring.get_password(\"foursquare\", \"fsq_api_key\") # $200 free credit for API usage granted on the first of every month\n",
    "yelp_api_key = keyring.get_password(\"yelp\", \"yelp_api_key\") # 5000 API calls daily limit, resets at midnight \n",
    "yelp_client_id = keyring.get_password(\"yelp\", \"yelp_client_id\")"
   ]
  },
  {
   "cell_type": "code",
   "execution_count": 4,
   "metadata": {},
   "outputs": [
    {
     "name": "stdout",
     "output_type": "stream",
     "text": [
      "status: 200\n",
      "{\n",
      "    \"results\": [\n",
      "        {\n",
      "            \"fsq_id\": \"4bcb7c1a511f95216599b1c7\",\n",
      "            \"categories\": [\n",
      "                {\n",
      "                    \"id\": 13068,\n",
      "                    \"name\": \"American Restaurant\",\n",
      "                    \"short_name\": \"American\",\n",
      "                    \"plural_name\": \"American Restaurants\",\n",
      "                    \"icon\": {\n",
      "                        \"prefix\": \"https://ss3.4sqi.net/img/categories_v2/food/default_\",\n",
      "                        \"suffix\": \".png\"\n",
      "                    }\n",
      "                }\n",
      "            ],\n",
      "            \"chains\": [],\n",
      "            \"closed_bucket\": \"LikelyOpen\",\n",
      "            \"distance\": 66,\n",
      "            \"geocodes\": {\n",
      "                \"main\": {\n",
      "                    \"latitude\": 37.849484,\n",
      "                    \"longitude\": -122.271567\n",
      "                },\n",
      "                \"roof\": {\n",
      "                    \"latitude\": 37.849484,\n",
      "                    \"longitude\": -122.271567\n",
      "                }\n",
      "            },\n",
      "            \"link\": \"/v3/places/4bcb7c1a511f95216599b1c7\",\n",
      "            \"location\": {\n",
      "                \"address\": \"3250 Adeline St\",\n",
      "                \"census_block\": \"060014240014000\",\n",
      "                \"country\": \"US\",\n",
      "                \"cross_street\": \"at Harmon St\",\n",
      "                \"dma\": \"San Francisco-Oakland-San Jose\",\n",
      "                \"formatted_address\": \"3250 Adeline St (at Harmon St), Berkeley, CA 94703\",\n",
      "                \"locality\": \"Berkeley\",\n",
      "                \"postcode\": \"94703\",\n",
      "                \"region\": \"CA\"\n",
      "            },\n",
      "            \"name\": \"Vault Cafe\",\n",
      "            \"related_places\": {},\n",
      "            \"timezone\": \"America/Los_Angeles\"\n",
      "        }\n",
      "    ],\n",
      "    \"context\": {\n",
      "        \"geo_bounds\": {\n",
      "            \"circle\": {\n",
      "                \"center\": {\n",
      "                    \"latitude\": 37.849735,\n",
      "                    \"longitude\": -122.270582\n",
      "                },\n",
      "                \"radius\": 1000\n",
      "            }\n",
      "        }\n",
      "    }\n",
      "}\n"
     ]
    }
   ],
   "source": [
    "url = 'https://api.foursquare.com/v3/places/search'\n",
    "params = {'ll': '37.849735,-122.270582', 'radius': '1000', 'limit': '1', 'categories' : '13000,10000,16000,19042,19043,19046,19050,19054', 'sort' : 'distance'} #13000 is the category label for dining & drinking on foursquare, 10000 =  arts & entertainment, 16000 = landmarks & outdoors, 19042 = bus station, 19043 = bus stop, 19046 = metro station, 19050 = tram station, 19054 = public transportation \n",
    "headers = {'Accept': 'application/json', 'Authorization': f'{fsq_api_key}'}  \n",
    "\n",
    "response = requests.request(\"GET\", url, params=params, headers=headers) # the max limit for results per query is 50, the default is 20\n",
    "print('status:', response.status_code)\n",
    "res1 = response.json()\n",
    "print(json.dumps(res1, indent=4))"
   ]
  },
  {
   "cell_type": "code",
   "execution_count": 66,
   "metadata": {},
   "outputs": [
    {
     "data": {
      "text/plain": [
       "66"
      ]
     },
     "execution_count": 66,
     "metadata": {},
     "output_type": "execute_result"
    }
   ],
   "source": [
    "# fsq_id\n",
    "res1['results'][0].get('fsq_id', None)\n",
    "# cat_id\n",
    "res1['results'][0]['categories'][0].get('id', None)\n",
    "# cat_name\n",
    "res1['results'][0]['categories'][0].get('name', None)\n",
    "# lat\n",
    "res1['results'][0]['geocodes']['main'].get('latitude', None)\n",
    "# long\n",
    "res1['results'][0]['geocodes']['main'].get('longitude', None)\n",
    "# name\n",
    "res1['results'][0].get('name', None)\n",
    "# street address\n",
    "res1['results'][0]['location'].get('address', None)\n",
    "# zip\n",
    "res1['results'][0]['location'].get('postcode', None)\n",
    "# locality\n",
    "res1['results'][0]['location'].get('locality', None)\n",
    "# distance from bike station\n",
    "res1['results'][0].get('distance', None)"
   ]
  },
  {
   "cell_type": "code",
   "execution_count": 5,
   "metadata": {},
   "outputs": [
    {
     "name": "stdout",
     "output_type": "stream",
     "text": [
      "Empty DataFrame\n",
      "Columns: [fsq_id, cat_id, cat_name, lat, long, name, street_address, zip, locality, distance]\n",
      "Index: []\n"
     ]
    }
   ],
   "source": [
    "cols = [\"fsq_id\", \"cat_id\", \"cat_name\", \"lat\", \"long\", \"name\", \"street_address\", \"zip\", \"locality\", \"distance\"]\n",
    "\n",
    "fsq_df = pd.DataFrame(columns=cols)\n",
    "print(fsq_df)"
   ]
  },
  {
   "cell_type": "code",
   "execution_count": 10,
   "metadata": {},
   "outputs": [
    {
     "data": {
      "text/html": [
       "<div>\n",
       "<style scoped>\n",
       "    .dataframe tbody tr th:only-of-type {\n",
       "        vertical-align: middle;\n",
       "    }\n",
       "\n",
       "    .dataframe tbody tr th {\n",
       "        vertical-align: top;\n",
       "    }\n",
       "\n",
       "    .dataframe thead th {\n",
       "        text-align: right;\n",
       "    }\n",
       "</style>\n",
       "<table border=\"1\" class=\"dataframe\">\n",
       "  <thead>\n",
       "    <tr style=\"text-align: right;\">\n",
       "      <th></th>\n",
       "      <th>fsq_id</th>\n",
       "      <th>cat_id</th>\n",
       "      <th>cat_name</th>\n",
       "      <th>lat</th>\n",
       "      <th>long</th>\n",
       "      <th>name</th>\n",
       "      <th>street_address</th>\n",
       "      <th>zip</th>\n",
       "      <th>locality</th>\n",
       "      <th>distance</th>\n",
       "    </tr>\n",
       "  </thead>\n",
       "  <tbody>\n",
       "    <tr>\n",
       "      <th>0</th>\n",
       "      <td>4bcb7c1a511f95216599b1c7</td>\n",
       "      <td>13068</td>\n",
       "      <td>American Restaurant</td>\n",
       "      <td>37.849484</td>\n",
       "      <td>-122.271567</td>\n",
       "      <td>Vault Cafe</td>\n",
       "      <td>3250 Adeline St</td>\n",
       "      <td>94703</td>\n",
       "      <td>Berkeley</td>\n",
       "      <td>66</td>\n",
       "    </tr>\n",
       "  </tbody>\n",
       "</table>\n",
       "</div>"
      ],
      "text/plain": [
       "                     fsq_id cat_id             cat_name        lat  \\\n",
       "0  4bcb7c1a511f95216599b1c7  13068  American Restaurant  37.849484   \n",
       "\n",
       "         long        name   street_address    zip  locality distance  \n",
       "0 -122.271567  Vault Cafe  3250 Adeline St  94703  Berkeley       66  "
      ]
     },
     "execution_count": 10,
     "metadata": {},
     "output_type": "execute_result"
    }
   ],
   "source": [
    "fsq_yelp_parsing.fsq_parsing(res1, fsq_df)"
   ]
  },
  {
   "cell_type": "code",
   "execution_count": null,
   "metadata": {},
   "outputs": [],
   "source": []
  },
  {
   "cell_type": "code",
   "execution_count": null,
   "metadata": {},
   "outputs": [],
   "source": []
  },
  {
   "cell_type": "code",
   "execution_count": null,
   "metadata": {},
   "outputs": [],
   "source": []
  },
  {
   "cell_type": "code",
   "execution_count": null,
   "metadata": {},
   "outputs": [],
   "source": []
  },
  {
   "cell_type": "code",
   "execution_count": null,
   "metadata": {},
   "outputs": [],
   "source": []
  },
  {
   "cell_type": "code",
   "execution_count": 22,
   "metadata": {},
   "outputs": [
    {
     "name": "stdout",
     "output_type": "stream",
     "text": [
      "status: 200\n",
      "{\n",
      "    \"businesses\": [\n",
      "        {\n",
      "            \"id\": \"LP6NBMIa3dxinjgtOxMEZg\",\n",
      "            \"alias\": \"the-fat-fish-berkeley\",\n",
      "            \"name\": \"The Fat Fish\",\n",
      "            \"image_url\": \"https://s3-media4.fl.yelpcdn.com/bphoto/EfBBn_RHZhdxo892dp9rLQ/o.jpg\",\n",
      "            \"is_closed\": false,\n",
      "            \"url\": \"https://www.yelp.com/biz/the-fat-fish-berkeley?adjust_creative=YDZxEhaxjqKRlaRTv_Z18A&utm_campaign=yelp_api_v3&utm_medium=api_v3_business_search&utm_source=YDZxEhaxjqKRlaRTv_Z18A\",\n",
      "            \"review_count\": 197,\n",
      "            \"categories\": [\n",
      "                {\n",
      "                    \"alias\": \"fishnchips\",\n",
      "                    \"title\": \"Fish & Chips\"\n",
      "                }\n",
      "            ],\n",
      "            \"rating\": 3.9,\n",
      "            \"coordinates\": {\n",
      "                \"latitude\": 37.85004,\n",
      "                \"longitude\": -122.27053\n",
      "            },\n",
      "            \"transactions\": [\n",
      "                \"pickup\",\n",
      "                \"delivery\"\n",
      "            ],\n",
      "            \"price\": \"$$\",\n",
      "            \"location\": {\n",
      "                \"address1\": \"3221 Adeline St\",\n",
      "                \"address2\": \"\",\n",
      "                \"address3\": \"\",\n",
      "                \"city\": \"Berkeley\",\n",
      "                \"zip_code\": \"94703\",\n",
      "                \"country\": \"US\",\n",
      "                \"state\": \"CA\",\n",
      "                \"display_address\": [\n",
      "                    \"3221 Adeline St\",\n",
      "                    \"Berkeley, CA 94703\"\n",
      "                ]\n",
      "            },\n",
      "            \"phone\": \"+15106532121\",\n",
      "            \"display_phone\": \"(510) 653-2121\",\n",
      "            \"distance\": 29.9305557971102\n",
      "        }\n",
      "    ],\n",
      "    \"total\": 150,\n",
      "    \"region\": {\n",
      "        \"center\": {\n",
      "            \"longitude\": -122.270582,\n",
      "            \"latitude\": 37.849735\n",
      "        }\n",
      "    }\n",
      "}\n"
     ]
    }
   ],
   "source": [
    "url = 'https://api.yelp.com/v3/businesses/search' # The Yelp API does not return businesses without any reviews.\n",
    "params = {'latitude': '37.849735', 'longitude' : '-122.270582', 'radius': '1000', 'limit': '1', 'categories' : 'food,galleries,cafes,restaurants,bars,barcrawl,beergardens,coffeeshops,publicart,trainstations,arts,beaches,bowling,climbing,escapegames,hiking,rock_climbing,zoos,volleyball,arcades,gardens,outdoormovies,jazzandblues,museums,streetart', 'sort_by' : 'distance'}\n",
    "headers = {'Accept': 'application/json', 'Authorization': f'Bearer {yelp_api_key}'} \n",
    "\n",
    "response = requests.request(\"GET\", url, params=params, headers=headers)\n",
    "print('status:', response.status_code)\n",
    "res = response.json()\n",
    "print(json.dumps(res, indent=4))"
   ]
  },
  {
   "cell_type": "code",
   "execution_count": 50,
   "metadata": {},
   "outputs": [
    {
     "data": {
      "text/plain": [
       "29.9305557971102"
      ]
     },
     "execution_count": 50,
     "metadata": {},
     "output_type": "execute_result"
    }
   ],
   "source": [
    "# yelp_id\n",
    "res['businesses'][0].get('id', None)\n",
    "\n",
    "# cat_alias\n",
    "res['businesses'][0]['categories'][0].get('alias', None)\n",
    "\n",
    "# latitude\n",
    "res['businesses'][0]['coordinates'].get('latitude', None)\n",
    "\n",
    "# longitude\n",
    "res['businesses'][0]['coordinates'].get('longitude', None)\n",
    "\n",
    "# name\n",
    "res['businesses'][0].get('name', None)\n",
    "\n",
    "# street address\n",
    "res['businesses'][0]['location'].get('address1', None)\n",
    "\n",
    "# zip\n",
    "res['businesses'][0]['location'].get('zip_code', None)\n",
    "\n",
    "# city\n",
    "res['businesses'][0]['location'].get('city', None)\n",
    "\n",
    "# price\n",
    "res['businesses'][0].get('price', None)\n",
    "\n",
    "# rating\n",
    "res['businesses'][0].get('rating', None)\n",
    "\n",
    "# review_count\n",
    "res['businesses'][0].get('review_count', None)\n",
    "\n",
    "# distance\n",
    "res['businesses'][0].get('distance', None)"
   ]
  },
  {
   "cell_type": "code",
   "execution_count": 52,
   "metadata": {},
   "outputs": [
    {
     "name": "stdout",
     "output_type": "stream",
     "text": [
      "Empty DataFrame\n",
      "Columns: [yelp_id, cat_alias, latitude, longitude, name, street_address, zip, city, price, rating, review_count, distance_from_bike_stn]\n",
      "Index: []\n"
     ]
    }
   ],
   "source": [
    "cols = [\"yelp_id\", \"cat_alias\", \"latitude\", \"longitude\", \"name\", \"street_address\", \"zip\", \"city\", \"price\", \"rating\", \"review_count\", \"distance_from_bike_stn\"]\n",
    "\n",
    "yelp_df = pd.DataFrame(columns=cols)\n",
    "print(yelp_df)"
   ]
  },
  {
   "cell_type": "code",
   "execution_count": null,
   "metadata": {},
   "outputs": [],
   "source": []
  },
  {
   "cell_type": "code",
   "execution_count": null,
   "metadata": {},
   "outputs": [],
   "source": []
  },
  {
   "cell_type": "code",
   "execution_count": null,
   "metadata": {},
   "outputs": [],
   "source": []
  },
  {
   "cell_type": "code",
   "execution_count": null,
   "metadata": {},
   "outputs": [],
   "source": []
  },
  {
   "cell_type": "code",
   "execution_count": null,
   "metadata": {},
   "outputs": [],
   "source": []
  },
  {
   "cell_type": "code",
   "execution_count": null,
   "metadata": {},
   "outputs": [],
   "source": []
  },
  {
   "cell_type": "code",
   "execution_count": null,
   "metadata": {},
   "outputs": [],
   "source": []
  },
  {
   "cell_type": "code",
   "execution_count": null,
   "metadata": {},
   "outputs": [],
   "source": []
  },
  {
   "cell_type": "code",
   "execution_count": null,
   "metadata": {},
   "outputs": [],
   "source": []
  },
  {
   "cell_type": "code",
   "execution_count": null,
   "metadata": {},
   "outputs": [],
   "source": []
  },
  {
   "cell_type": "code",
   "execution_count": null,
   "metadata": {},
   "outputs": [],
   "source": []
  },
  {
   "cell_type": "code",
   "execution_count": null,
   "metadata": {},
   "outputs": [],
   "source": []
  },
  {
   "cell_type": "code",
   "execution_count": null,
   "metadata": {},
   "outputs": [],
   "source": []
  }
 ],
 "metadata": {
  "kernelspec": {
   "display_name": "Python 3",
   "language": "python",
   "name": "python3"
  },
  "language_info": {
   "codemirror_mode": {
    "name": "ipython",
    "version": 3
   },
   "file_extension": ".py",
   "mimetype": "text/x-python",
   "name": "python",
   "nbconvert_exporter": "python",
   "pygments_lexer": "ipython3",
   "version": "3.10.9"
  }
 },
 "nbformat": 4,
 "nbformat_minor": 4
}
