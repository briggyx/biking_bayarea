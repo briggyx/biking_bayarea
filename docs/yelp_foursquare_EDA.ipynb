{
 "cells": [
  {
   "cell_type": "code",
   "execution_count": 7,
   "metadata": {},
   "outputs": [],
   "source": [
    "import requests\n",
    "import pandas as pd\n",
    "import pickle\n",
    "import json\n",
    "import os\n",
    "import keyring\n",
    "\n",
    "import sys\n",
    "\n",
    "sys.path.append('..\\\\src')\n",
    "import fsq_yelp_parsing"
   ]
  },
  {
   "cell_type": "markdown",
   "metadata": {},
   "source": [
    "# Foursquare & Yelp APIs"
   ]
  },
  {
   "cell_type": "markdown",
   "metadata": {},
   "source": [
    "Since a typical 5-minute bike ride covers about 1000-1100 meters, I'll look within a 1000-meter radius around bike stations and arrange the results by distance.\n",
    "\n",
    "Imagine a scenario where someone is planning a day out with friends, biking between places. They'll start from a meeting spot reached by public transport. They're looking for places with activities suitable for groups, like artsy spots, outdoor fun, places to eat, and activities that are not too strenuous."
   ]
  },
  {
   "cell_type": "code",
   "execution_count": 8,
   "metadata": {},
   "outputs": [
    {
     "data": {
      "text/html": [
       "<div>\n",
       "<style scoped>\n",
       "    .dataframe tbody tr th:only-of-type {\n",
       "        vertical-align: middle;\n",
       "    }\n",
       "\n",
       "    .dataframe tbody tr th {\n",
       "        vertical-align: top;\n",
       "    }\n",
       "\n",
       "    .dataframe thead th {\n",
       "        text-align: right;\n",
       "    }\n",
       "</style>\n",
       "<table border=\"1\" class=\"dataframe\">\n",
       "  <thead>\n",
       "    <tr style=\"text-align: right;\">\n",
       "      <th></th>\n",
       "      <th>name</th>\n",
       "      <th>id</th>\n",
       "      <th>timestamp</th>\n",
       "      <th>longitude</th>\n",
       "      <th>latitude</th>\n",
       "      <th>slots</th>\n",
       "      <th>free_bikes</th>\n",
       "      <th>empty_slots</th>\n",
       "      <th>has_ebikes</th>\n",
       "      <th>ebikes</th>\n",
       "      <th>payment</th>\n",
       "      <th>renting</th>\n",
       "      <th>returning</th>\n",
       "    </tr>\n",
       "  </thead>\n",
       "  <tbody>\n",
       "    <tr>\n",
       "      <th>0</th>\n",
       "      <td>Harmon St at Adeline St</td>\n",
       "      <td>d0e8f4f1834b7b33a3faf8882f567ab8</td>\n",
       "      <td>2024-04-02T18:29:27.066000Z</td>\n",
       "      <td>-122.270582</td>\n",
       "      <td>37.849735</td>\n",
       "      <td>15</td>\n",
       "      <td>9</td>\n",
       "      <td>6</td>\n",
       "      <td>True</td>\n",
       "      <td>0</td>\n",
       "      <td>[key, creditcard]</td>\n",
       "      <td>1</td>\n",
       "      <td>1</td>\n",
       "    </tr>\n",
       "    <tr>\n",
       "      <th>1</th>\n",
       "      <td>Fountain Alley at S 2nd St</td>\n",
       "      <td>983514094dd808b1604da2dcfc2d09af</td>\n",
       "      <td>2024-04-02T18:29:26.582000Z</td>\n",
       "      <td>-121.889277</td>\n",
       "      <td>37.336188</td>\n",
       "      <td>11</td>\n",
       "      <td>8</td>\n",
       "      <td>3</td>\n",
       "      <td>True</td>\n",
       "      <td>6</td>\n",
       "      <td>[key, creditcard]</td>\n",
       "      <td>1</td>\n",
       "      <td>1</td>\n",
       "    </tr>\n",
       "    <tr>\n",
       "      <th>2</th>\n",
       "      <td>Oak St at 1st St</td>\n",
       "      <td>da17603652106fda93da4e255a5b0a22</td>\n",
       "      <td>2024-04-02T18:29:27.044000Z</td>\n",
       "      <td>-121.88109</td>\n",
       "      <td>37.322125</td>\n",
       "      <td>23</td>\n",
       "      <td>14</td>\n",
       "      <td>9</td>\n",
       "      <td>True</td>\n",
       "      <td>7</td>\n",
       "      <td>[key, creditcard]</td>\n",
       "      <td>1</td>\n",
       "      <td>1</td>\n",
       "    </tr>\n",
       "    <tr>\n",
       "      <th>3</th>\n",
       "      <td>Bestor Art Park</td>\n",
       "      <td>7a21c92b3b4cd2f7759107b4fdebf869</td>\n",
       "      <td>2024-04-02T18:29:26.797000Z</td>\n",
       "      <td>-121.874119</td>\n",
       "      <td>37.323678</td>\n",
       "      <td>15</td>\n",
       "      <td>12</td>\n",
       "      <td>3</td>\n",
       "      <td>True</td>\n",
       "      <td>3</td>\n",
       "      <td>[key, creditcard]</td>\n",
       "      <td>1</td>\n",
       "      <td>1</td>\n",
       "    </tr>\n",
       "    <tr>\n",
       "      <th>4</th>\n",
       "      <td>5th St at Virginia St</td>\n",
       "      <td>ce34d38fb230a23c1ced12d1e16df294</td>\n",
       "      <td>2024-04-02T18:29:26.971000Z</td>\n",
       "      <td>-121.87712</td>\n",
       "      <td>37.325998</td>\n",
       "      <td>27</td>\n",
       "      <td>19</td>\n",
       "      <td>7</td>\n",
       "      <td>True</td>\n",
       "      <td>12</td>\n",
       "      <td>[key, creditcard]</td>\n",
       "      <td>1</td>\n",
       "      <td>1</td>\n",
       "    </tr>\n",
       "  </tbody>\n",
       "</table>\n",
       "</div>"
      ],
      "text/plain": [
       "                         name                                id  \\\n",
       "0     Harmon St at Adeline St  d0e8f4f1834b7b33a3faf8882f567ab8   \n",
       "1  Fountain Alley at S 2nd St  983514094dd808b1604da2dcfc2d09af   \n",
       "2            Oak St at 1st St  da17603652106fda93da4e255a5b0a22   \n",
       "3             Bestor Art Park  7a21c92b3b4cd2f7759107b4fdebf869   \n",
       "4       5th St at Virginia St  ce34d38fb230a23c1ced12d1e16df294   \n",
       "\n",
       "                     timestamp   longitude   latitude slots free_bikes  \\\n",
       "0  2024-04-02T18:29:27.066000Z -122.270582  37.849735    15          9   \n",
       "1  2024-04-02T18:29:26.582000Z -121.889277  37.336188    11          8   \n",
       "2  2024-04-02T18:29:27.044000Z  -121.88109  37.322125    23         14   \n",
       "3  2024-04-02T18:29:26.797000Z -121.874119  37.323678    15         12   \n",
       "4  2024-04-02T18:29:26.971000Z  -121.87712  37.325998    27         19   \n",
       "\n",
       "  empty_slots has_ebikes ebikes            payment renting returning  \n",
       "0           6       True      0  [key, creditcard]       1         1  \n",
       "1           3       True      6  [key, creditcard]       1         1  \n",
       "2           9       True      7  [key, creditcard]       1         1  \n",
       "3           3       True      3  [key, creditcard]       1         1  \n",
       "4           7       True     12  [key, creditcard]       1         1  "
      ]
     },
     "execution_count": 8,
     "metadata": {},
     "output_type": "execute_result"
    }
   ],
   "source": [
    "# UNPICKLE CITYBIKES DF\n",
    "with open('../data/citybikes_filled_df.pickle', 'rb') as df:\n",
    "    citybikes_df = pickle.load(df)\n",
    "\n",
    "citybikes_df.head(5)"
   ]
  },
  {
   "cell_type": "code",
   "execution_count": 9,
   "metadata": {},
   "outputs": [],
   "source": [
    "fsq_api_key = keyring.get_password(\"foursquare\", \"fsq_api_key\") # $200 free credit for API usage granted on the first of every month\n",
    "yelp_api_key = keyring.get_password(\"yelp\", \"yelp_api_key\") # 5000 API calls daily limit, resets at midnight \n",
    "yelp_client_id = keyring.get_password(\"yelp\", \"yelp_client_id\")"
   ]
  },
  {
   "cell_type": "code",
   "execution_count": 8,
   "metadata": {},
   "outputs": [
    {
     "name": "stdout",
     "output_type": "stream",
     "text": [
      "status: 200\n",
      "{\n",
      "    \"results\": [\n",
      "        {\n",
      "            \"fsq_id\": \"4b3fc82cf964a520a1ae25e3\",\n",
      "            \"categories\": [\n",
      "                {\n",
      "                    \"id\": 13303,\n",
      "                    \"name\": \"Mexican Restaurant\",\n",
      "                    \"short_name\": \"Mexican\",\n",
      "                    \"plural_name\": \"Mexican Restaurants\",\n",
      "                    \"icon\": {\n",
      "                        \"prefix\": \"https://ss3.4sqi.net/img/categories_v2/food/mexican_\",\n",
      "                        \"suffix\": \".png\"\n",
      "                    }\n",
      "                }\n",
      "            ],\n",
      "            \"chains\": [],\n",
      "            \"closed_bucket\": \"Unsure\",\n",
      "            \"distance\": 33,\n",
      "            \"geocodes\": {\n",
      "                \"main\": {\n",
      "                    \"latitude\": 37.850052,\n",
      "                    \"longitude\": -122.270523\n",
      "                },\n",
      "                \"roof\": {\n",
      "                    \"latitude\": 37.850052,\n",
      "                    \"longitude\": -122.270523\n",
      "                }\n",
      "            },\n",
      "            \"link\": \"/v3/places/4b3fc82cf964a520a1ae25e3\",\n",
      "            \"location\": {\n",
      "                \"address\": \"3221 Adeline St\",\n",
      "                \"census_block\": \"060014239011019\",\n",
      "                \"country\": \"US\",\n",
      "                \"cross_street\": \"Alactraz St.\",\n",
      "                \"dma\": \"San Francisco-Oakland-San Jose\",\n",
      "                \"formatted_address\": \"3221 Adeline St (Alactraz St.), Berkeley, CA 94703\",\n",
      "                \"locality\": \"Berkeley\",\n",
      "                \"postcode\": \"94703\",\n",
      "                \"region\": \"CA\"\n",
      "            },\n",
      "            \"name\": \"Las Palmas Super Burritos and Heros\",\n",
      "            \"related_places\": {},\n",
      "            \"timezone\": \"America/Los_Angeles\"\n",
      "        },\n",
      "        {\n",
      "            \"fsq_id\": \"57da76a603a44d3f9b3ddd3b\",\n",
      "            \"categories\": [\n",
      "                {\n",
      "                    \"id\": 10004,\n",
      "                    \"name\": \"Art Gallery\",\n",
      "                    \"short_name\": \"Art Gallery\",\n",
      "                    \"plural_name\": \"Art Galleries\",\n",
      "                    \"icon\": {\n",
      "                        \"prefix\": \"https://ss3.4sqi.net/img/categories_v2/arts_entertainment/artgallery_\",\n",
      "                        \"suffix\": \".png\"\n",
      "                    }\n",
      "                }\n",
      "            ],\n",
      "            \"chains\": [],\n",
      "            \"closed_bucket\": \"Unsure\",\n",
      "            \"distance\": 100,\n",
      "            \"geocodes\": {\n",
      "                \"main\": {\n",
      "                    \"latitude\": 37.849798,\n",
      "                    \"longitude\": -122.271728\n",
      "                },\n",
      "                \"roof\": {\n",
      "                    \"latitude\": 37.849798,\n",
      "                    \"longitude\": -122.271728\n",
      "                }\n",
      "            },\n",
      "            \"link\": \"/v3/places/57da76a603a44d3f9b3ddd3b\",\n",
      "            \"location\": {\n",
      "                \"address\": \"1835 Harmon St\",\n",
      "                \"census_block\": \"060014240013000\",\n",
      "                \"country\": \"US\",\n",
      "                \"dma\": \"San Francisco-Oakland-San Jose\",\n",
      "                \"formatted_address\": \"1835 Harmon St, Berkeley, CA 94703\",\n",
      "                \"locality\": \"Berkeley\",\n",
      "                \"postcode\": \"94703\",\n",
      "                \"region\": \"CA\"\n",
      "            },\n",
      "            \"name\": \"Firehouse Collective East/West Art Studios\",\n",
      "            \"related_places\": {},\n",
      "            \"timezone\": \"America/Los_Angeles\"\n",
      "        },\n",
      "        {\n",
      "            \"fsq_id\": \"4b64bd80f964a52074cc2ae3\",\n",
      "            \"categories\": [\n",
      "                {\n",
      "                    \"id\": 13064,\n",
      "                    \"name\": \"Pizzeria\",\n",
      "                    \"short_name\": \"Pizza\",\n",
      "                    \"plural_name\": \"Pizzerias\",\n",
      "                    \"icon\": {\n",
      "                        \"prefix\": \"https://ss3.4sqi.net/img/categories_v2/food/pizza_\",\n",
      "                        \"suffix\": \".png\"\n",
      "                    }\n",
      "                }\n",
      "            ],\n",
      "            \"chains\": [\n",
      "                {\n",
      "                    \"id\": \"ab4afc60-d68a-012e-5619-003048cad9da\",\n",
      "                    \"name\": \"Domino's Pizza\"\n",
      "                }\n",
      "            ],\n",
      "            \"closed_bucket\": \"VeryLikelyOpen\",\n",
      "            \"distance\": 113,\n",
      "            \"geocodes\": {\n",
      "                \"main\": {\n",
      "                    \"latitude\": 37.849316,\n",
      "                    \"longitude\": -122.271629\n",
      "                },\n",
      "                \"roof\": {\n",
      "                    \"latitude\": 37.849316,\n",
      "                    \"longitude\": -122.271629\n",
      "                }\n",
      "            },\n",
      "            \"link\": \"/v3/places/4b64bd80f964a52074cc2ae3\",\n",
      "            \"location\": {\n",
      "                \"address\": \"3264 Adeline St\",\n",
      "                \"census_block\": \"060014240014000\",\n",
      "                \"country\": \"US\",\n",
      "                \"cross_street\": \"\",\n",
      "                \"dma\": \"San Francisco-Oakland-San Jose\",\n",
      "                \"formatted_address\": \"3264 Adeline St, Berkeley, CA 94703\",\n",
      "                \"locality\": \"Berkeley\",\n",
      "                \"postcode\": \"94703\",\n",
      "                \"region\": \"CA\"\n",
      "            },\n",
      "            \"name\": \"Domino's Pizza\",\n",
      "            \"related_places\": {},\n",
      "            \"timezone\": \"America/Los_Angeles\"\n",
      "        }\n",
      "    ],\n",
      "    \"context\": {\n",
      "        \"geo_bounds\": {\n",
      "            \"circle\": {\n",
      "                \"center\": {\n",
      "                    \"latitude\": 37.849735,\n",
      "                    \"longitude\": -122.270582\n",
      "                },\n",
      "                \"radius\": 1000\n",
      "            }\n",
      "        }\n",
      "    }\n",
      "}\n"
     ]
    }
   ],
   "source": [
    "url = 'https://api.foursquare.com/v3/places/search'\n",
    "params = {'ll': '37.849735,-122.270582', 'radius': '1000', 'limit': '3', 'categories' : '13000,10000,16000,19042,19043,19046,19050,19054', 'sort' : 'distance'} #13000 is the category label for dining & drinking on foursquare, 10000 =  arts & entertainment, 16000 = landmarks & outdoors, 19042 = bus station, 19043 = bus stop, 19046 = metro station, 19050 = tram station, 19054 = public transportation \n",
    "headers = {'Accept': 'application/json', 'Authorization': f'{fsq_api_key}'}  \n",
    "\n",
    "response = requests.request(\"GET\", url, params=params, headers=headers) # the max limit for results per query is 50, the default is 20\n",
    "print('status:', response.status_code)\n",
    "res1 = response.json()\n",
    "print(json.dumps(res1, indent=4))"
   ]
  },
  {
   "cell_type": "code",
   "execution_count": 11,
   "metadata": {},
   "outputs": [
    {
     "data": {
      "text/plain": [
       "[{'fsq_id': '4b3fc82cf964a520a1ae25e3',\n",
       "  'categories': [{'id': 13303,\n",
       "    'name': 'Mexican Restaurant',\n",
       "    'short_name': 'Mexican',\n",
       "    'plural_name': 'Mexican Restaurants',\n",
       "    'icon': {'prefix': 'https://ss3.4sqi.net/img/categories_v2/food/mexican_',\n",
       "     'suffix': '.png'}}],\n",
       "  'chains': [],\n",
       "  'closed_bucket': 'Unsure',\n",
       "  'distance': 33,\n",
       "  'geocodes': {'main': {'latitude': 37.850052, 'longitude': -122.270523},\n",
       "   'roof': {'latitude': 37.850052, 'longitude': -122.270523}},\n",
       "  'link': '/v3/places/4b3fc82cf964a520a1ae25e3',\n",
       "  'location': {'address': '3221 Adeline St',\n",
       "   'census_block': '060014239011019',\n",
       "   'country': 'US',\n",
       "   'cross_street': 'Alactraz St.',\n",
       "   'dma': 'San Francisco-Oakland-San Jose',\n",
       "   'formatted_address': '3221 Adeline St (Alactraz St.), Berkeley, CA 94703',\n",
       "   'locality': 'Berkeley',\n",
       "   'postcode': '94703',\n",
       "   'region': 'CA'},\n",
       "  'name': 'Las Palmas Super Burritos and Heros',\n",
       "  'related_places': {},\n",
       "  'timezone': 'America/Los_Angeles'},\n",
       " {'fsq_id': '57da76a603a44d3f9b3ddd3b',\n",
       "  'categories': [{'id': 10004,\n",
       "    'name': 'Art Gallery',\n",
       "    'short_name': 'Art Gallery',\n",
       "    'plural_name': 'Art Galleries',\n",
       "    'icon': {'prefix': 'https://ss3.4sqi.net/img/categories_v2/arts_entertainment/artgallery_',\n",
       "     'suffix': '.png'}}],\n",
       "  'chains': [],\n",
       "  'closed_bucket': 'Unsure',\n",
       "  'distance': 100,\n",
       "  'geocodes': {'main': {'latitude': 37.849798, 'longitude': -122.271728},\n",
       "   'roof': {'latitude': 37.849798, 'longitude': -122.271728}},\n",
       "  'link': '/v3/places/57da76a603a44d3f9b3ddd3b',\n",
       "  'location': {'address': '1835 Harmon St',\n",
       "   'census_block': '060014240013000',\n",
       "   'country': 'US',\n",
       "   'dma': 'San Francisco-Oakland-San Jose',\n",
       "   'formatted_address': '1835 Harmon St, Berkeley, CA 94703',\n",
       "   'locality': 'Berkeley',\n",
       "   'postcode': '94703',\n",
       "   'region': 'CA'},\n",
       "  'name': 'Firehouse Collective East/West Art Studios',\n",
       "  'related_places': {},\n",
       "  'timezone': 'America/Los_Angeles'},\n",
       " {'fsq_id': '4b64bd80f964a52074cc2ae3',\n",
       "  'categories': [{'id': 13064,\n",
       "    'name': 'Pizzeria',\n",
       "    'short_name': 'Pizza',\n",
       "    'plural_name': 'Pizzerias',\n",
       "    'icon': {'prefix': 'https://ss3.4sqi.net/img/categories_v2/food/pizza_',\n",
       "     'suffix': '.png'}}],\n",
       "  'chains': [{'id': 'ab4afc60-d68a-012e-5619-003048cad9da',\n",
       "    'name': \"Domino's Pizza\"}],\n",
       "  'closed_bucket': 'VeryLikelyOpen',\n",
       "  'distance': 113,\n",
       "  'geocodes': {'main': {'latitude': 37.849316, 'longitude': -122.271629},\n",
       "   'roof': {'latitude': 37.849316, 'longitude': -122.271629}},\n",
       "  'link': '/v3/places/4b64bd80f964a52074cc2ae3',\n",
       "  'location': {'address': '3264 Adeline St',\n",
       "   'census_block': '060014240014000',\n",
       "   'country': 'US',\n",
       "   'cross_street': '',\n",
       "   'dma': 'San Francisco-Oakland-San Jose',\n",
       "   'formatted_address': '3264 Adeline St, Berkeley, CA 94703',\n",
       "   'locality': 'Berkeley',\n",
       "   'postcode': '94703',\n",
       "   'region': 'CA'},\n",
       "  'name': \"Domino's Pizza\",\n",
       "  'related_places': {},\n",
       "  'timezone': 'America/Los_Angeles'}]"
      ]
     },
     "execution_count": 11,
     "metadata": {},
     "output_type": "execute_result"
    }
   ],
   "source": [
    "res1['results']"
   ]
  },
  {
   "cell_type": "code",
   "execution_count": 11,
   "metadata": {},
   "outputs": [
    {
     "data": {
      "text/plain": [
       "33"
      ]
     },
     "execution_count": 11,
     "metadata": {},
     "output_type": "execute_result"
    }
   ],
   "source": [
    "# fsq_id\n",
    "res1['results'][0].get('fsq_id', None)\n",
    "# cat_id\n",
    "res1['results'][0]['categories'][0].get('id', None)\n",
    "# cat_name\n",
    "res1['results'][0]['categories'][0].get('name', None)\n",
    "# lat\n",
    "res1['results'][0]['geocodes']['main'].get('latitude', None)\n",
    "# long\n",
    "res1['results'][0]['geocodes']['main'].get('longitude', None)\n",
    "# name\n",
    "res1['results'][0].get('name', None)\n",
    "# street address\n",
    "res1['results'][0]['location'].get('address', None)\n",
    "# zip\n",
    "res1['results'][0]['location'].get('postcode', None)\n",
    "# locality\n",
    "res1['results'][0]['location'].get('locality', None)\n",
    "# distance from bike station\n",
    "res1['results'][0].get('distance', None)"
   ]
  },
  {
   "cell_type": "code",
   "execution_count": 12,
   "metadata": {},
   "outputs": [
    {
     "name": "stdout",
     "output_type": "stream",
     "text": [
      "Empty DataFrame\n",
      "Columns: [fsq_id, cat_id, cat_name, lat, long, name, street_address, zip, locality, distance]\n",
      "Index: []\n"
     ]
    }
   ],
   "source": [
    "cols = [\"fsq_id\", \"cat_id\", \"cat_name\", \"lat\", \"long\", \"name\", \"street_address\", \"zip\", \"locality\", \"distance\"]\n",
    "\n",
    "fsq_df = pd.DataFrame(columns=cols)\n",
    "print(fsq_df)"
   ]
  },
  {
   "cell_type": "code",
   "execution_count": null,
   "metadata": {},
   "outputs": [],
   "source": []
  },
  {
   "cell_type": "code",
   "execution_count": null,
   "metadata": {},
   "outputs": [],
   "source": []
  },
  {
   "cell_type": "code",
   "execution_count": null,
   "metadata": {},
   "outputs": [],
   "source": []
  },
  {
   "cell_type": "code",
   "execution_count": 16,
   "metadata": {},
   "outputs": [],
   "source": [
    "url = 'https://api.foursquare.com/v3/places/search'\n",
    "params = {'radius': '1000', 'limit': '50', 'categories' : '13000,10000,16000,19042,19043,19046,19050,19054', 'sort' : 'distance'} #13000 is the category label for dining & drinking on foursquare, 10000 =  arts & entertainment, 16000 = landmarks & outdoors, 19042 = bus station, 19043 = bus stop, 19046 = metro station, 19050 = tram station, 19054 = public transportation \n",
    "headers = {'Accept': 'application/json', 'Authorization': f'{fsq_api_key}'}  "
   ]
  },
  {
   "cell_type": "code",
   "execution_count": 17,
   "metadata": {},
   "outputs": [],
   "source": [
    "fsq_places = fsq_yelp_parsing.get_fsq_places(citybikes_df, url, params,\n",
    "                                             headers)"
   ]
  },
  {
   "cell_type": "code",
   "execution_count": 18,
   "metadata": {},
   "outputs": [
    {
     "name": "stdout",
     "output_type": "stream",
     "text": [
      "<class 'pandas.core.frame.DataFrame'>\n",
      "Int64Index: 25677 entries, 0 to 25676\n",
      "Data columns (total 10 columns):\n",
      " #   Column          Non-Null Count  Dtype  \n",
      "---  ------          --------------  -----  \n",
      " 0   fsq_id          25677 non-null  object \n",
      " 1   cat_id          25677 non-null  int64  \n",
      " 2   cat_name        25677 non-null  object \n",
      " 3   lat             25677 non-null  float64\n",
      " 4   long            25677 non-null  float64\n",
      " 5   name            25677 non-null  object \n",
      " 6   street_address  24519 non-null  object \n",
      " 7   zip             25657 non-null  object \n",
      " 8   locality        25677 non-null  object \n",
      " 9   distance        25677 non-null  int64  \n",
      "dtypes: float64(2), int64(2), object(6)\n",
      "memory usage: 2.2+ MB\n"
     ]
    }
   ],
   "source": [
    "fsq_places.info()"
   ]
  },
  {
   "cell_type": "code",
   "execution_count": 19,
   "metadata": {},
   "outputs": [],
   "source": [
    "# PICKLE THE COMPLETED FSQ DF \n",
    "# with open('../data/fsq_places.pickle', 'wb') as df:\n",
    "#     pickle.dump(fsq_places, df)"
   ]
  },
  {
   "cell_type": "code",
   "execution_count": 21,
   "metadata": {},
   "outputs": [
    {
     "name": "stdout",
     "output_type": "stream",
     "text": [
      "<class 'pandas.core.frame.DataFrame'>\n",
      "Int64Index: 25677 entries, 0 to 25676\n",
      "Data columns (total 10 columns):\n",
      " #   Column          Non-Null Count  Dtype  \n",
      "---  ------          --------------  -----  \n",
      " 0   fsq_id          25677 non-null  object \n",
      " 1   cat_id          25677 non-null  int64  \n",
      " 2   cat_name        25677 non-null  object \n",
      " 3   lat             25677 non-null  float64\n",
      " 4   long            25677 non-null  float64\n",
      " 5   name            25677 non-null  object \n",
      " 6   street_address  24519 non-null  object \n",
      " 7   zip             25657 non-null  object \n",
      " 8   locality        25677 non-null  object \n",
      " 9   distance        25677 non-null  int64  \n",
      "dtypes: float64(2), int64(2), object(6)\n",
      "memory usage: 2.2+ MB\n"
     ]
    }
   ],
   "source": [
    "# UNPICKLE COMPLETED FSQ DF \n",
    "with open('../data/fsq_places.pickle', 'rb') as df:\n",
    "    fsq_places = pickle.load(df)\n",
    "\n",
    "fsq_places.info()"
   ]
  },
  {
   "cell_type": "code",
   "execution_count": null,
   "metadata": {},
   "outputs": [],
   "source": []
  },
  {
   "cell_type": "code",
   "execution_count": null,
   "metadata": {},
   "outputs": [],
   "source": []
  },
  {
   "cell_type": "code",
   "execution_count": null,
   "metadata": {},
   "outputs": [],
   "source": []
  },
  {
   "cell_type": "code",
   "execution_count": null,
   "metadata": {},
   "outputs": [],
   "source": []
  },
  {
   "cell_type": "code",
   "execution_count": null,
   "metadata": {},
   "outputs": [],
   "source": []
  },
  {
   "cell_type": "code",
   "execution_count": null,
   "metadata": {},
   "outputs": [],
   "source": []
  },
  {
   "cell_type": "code",
   "execution_count": 24,
   "metadata": {},
   "outputs": [
    {
     "name": "stdout",
     "output_type": "stream",
     "text": [
      "status: 200\n"
     ]
    }
   ],
   "source": [
    "url = 'https://api.yelp.com/v3/businesses/search'\n",
    "categories = 'beaches,bicyclepaths,bowling,rock_climbing,escapegames,hiking,tennis,volleyball,zoos,arcades,galleries,gardens,movietheaters,festivals,museums,trainstations,busstations,metrostations,publictransport,trains,bars,barcrawl,beergardens,karaoke,restaurants'\n",
    "params = {'latitude': '37.849735', 'longitude' : '-122.270582', 'radius': '1000', 'limit': '3', 'categories' : f'{categories}', 'sort' : 'distance'}\n",
    "headers = {'Accept': 'application/json', 'Authorization': f'Bearer {yelp_api_key}'}\n",
    "\n",
    "response = requests.request(\"GET\", url, params=params, headers=headers) # the max limit for results per query is 50, the default is 20\n",
    "print('status:', response.status_code)\n",
    "res2 = response.json()"
   ]
  },
  {
   "cell_type": "code",
   "execution_count": 25,
   "metadata": {},
   "outputs": [
    {
     "name": "stdout",
     "output_type": "stream",
     "text": [
      "{\n",
      "    \"businesses\": [\n",
      "        {\n",
      "            \"id\": \"OjMumhyL26n5fDZ2CQLnyg\",\n",
      "            \"alias\": \"lemat-berkeley\",\n",
      "            \"name\": \"Lemat\",\n",
      "            \"image_url\": \"https://s3-media2.fl.yelpcdn.com/bphoto/olmjVKwiGGVBHd771fDnaQ/o.jpg\",\n",
      "            \"is_closed\": false,\n",
      "            \"url\": \"https://www.yelp.com/biz/lemat-berkeley?adjust_creative=YDZxEhaxjqKRlaRTv_Z18A&utm_campaign=yelp_api_v3&utm_medium=api_v3_business_search&utm_source=YDZxEhaxjqKRlaRTv_Z18A\",\n",
      "            \"review_count\": 239,\n",
      "            \"categories\": [\n",
      "                {\n",
      "                    \"alias\": \"ethiopian\",\n",
      "                    \"title\": \"Ethiopian\"\n",
      "                },\n",
      "                {\n",
      "                    \"alias\": \"vegetarian\",\n",
      "                    \"title\": \"Vegetarian\"\n",
      "                },\n",
      "                {\n",
      "                    \"alias\": \"gluten_free\",\n",
      "                    \"title\": \"Gluten-Free\"\n",
      "                }\n",
      "            ],\n",
      "            \"rating\": 4.4,\n",
      "            \"coordinates\": {\n",
      "                \"latitude\": 37.850300662973346,\n",
      "                \"longitude\": -122.27126646102298\n",
      "            },\n",
      "            \"transactions\": [\n",
      "                \"delivery\",\n",
      "                \"pickup\"\n",
      "            ],\n",
      "            \"price\": \"$$\",\n",
      "            \"location\": {\n",
      "                \"address1\": \"3212 Adeline St\",\n",
      "                \"address2\": \"\",\n",
      "                \"address3\": \"\",\n",
      "                \"city\": \"Berkeley\",\n",
      "                \"zip_code\": \"94703\",\n",
      "                \"country\": \"US\",\n",
      "                \"state\": \"CA\",\n",
      "                \"display_address\": [\n",
      "                    \"3212 Adeline St\",\n",
      "                    \"Berkeley, CA 94703\"\n",
      "                ]\n",
      "            },\n",
      "            \"phone\": \"+15104302717\",\n",
      "            \"display_phone\": \"(510) 430-2717\",\n",
      "            \"distance\": 86.99355863981393\n",
      "        },\n",
      "        {\n",
      "            \"id\": \"-EpmBwODsvQ6gHx2IuVO5w\",\n",
      "            \"alias\": \"el-tiny-cafe-berkeley\",\n",
      "            \"name\": \"El Tiny Cafe\",\n",
      "            \"image_url\": \"https://s3-media2.fl.yelpcdn.com/bphoto/tRqsfRFwSLuen9aRsNuXaA/o.jpg\",\n",
      "            \"is_closed\": false,\n",
      "            \"url\": \"https://www.yelp.com/biz/el-tiny-cafe-berkeley?adjust_creative=YDZxEhaxjqKRlaRTv_Z18A&utm_campaign=yelp_api_v3&utm_medium=api_v3_business_search&utm_source=YDZxEhaxjqKRlaRTv_Z18A\",\n",
      "            \"review_count\": 60,\n",
      "            \"categories\": [\n",
      "                {\n",
      "                    \"alias\": \"cafes\",\n",
      "                    \"title\": \"Cafes\"\n",
      "                }\n",
      "            ],\n",
      "            \"rating\": 4.8,\n",
      "            \"coordinates\": {\n",
      "                \"latitude\": 37.85001740687401,\n",
      "                \"longitude\": -122.27053198326358\n",
      "            },\n",
      "            \"transactions\": [],\n",
      "            \"location\": {\n",
      "                \"address1\": \"3219 Adeline St\",\n",
      "                \"address2\": \"\",\n",
      "                \"address3\": null,\n",
      "                \"city\": \"Berkeley\",\n",
      "                \"zip_code\": \"94703\",\n",
      "                \"country\": \"US\",\n",
      "                \"state\": \"CA\",\n",
      "                \"display_address\": [\n",
      "                    \"3219 Adeline St\",\n",
      "                    \"Berkeley, CA 94703\"\n",
      "                ]\n",
      "            },\n",
      "            \"phone\": \"+15108796945\",\n",
      "            \"display_phone\": \"(510) 879-6945\",\n",
      "            \"distance\": 31.707767038858425\n",
      "        },\n",
      "        {\n",
      "            \"id\": \"pJdwr6JoCVXTKbdJlm-rdg\",\n",
      "            \"alias\": \"creekwood-berkeley\",\n",
      "            \"name\": \"Creekwood\",\n",
      "            \"image_url\": \"https://s3-media2.fl.yelpcdn.com/bphoto/lLmLUVo9skdWg4ilwBoHVQ/o.jpg\",\n",
      "            \"is_closed\": false,\n",
      "            \"url\": \"https://www.yelp.com/biz/creekwood-berkeley?adjust_creative=YDZxEhaxjqKRlaRTv_Z18A&utm_campaign=yelp_api_v3&utm_medium=api_v3_business_search&utm_source=YDZxEhaxjqKRlaRTv_Z18A\",\n",
      "            \"review_count\": 481,\n",
      "            \"categories\": [\n",
      "                {\n",
      "                    \"alias\": \"italian\",\n",
      "                    \"title\": \"Italian\"\n",
      "                },\n",
      "                {\n",
      "                    \"alias\": \"newamerican\",\n",
      "                    \"title\": \"New American\"\n",
      "                }\n",
      "            ],\n",
      "            \"rating\": 4.6,\n",
      "            \"coordinates\": {\n",
      "                \"latitude\": 37.8509,\n",
      "                \"longitude\": -122.2782\n",
      "            },\n",
      "            \"transactions\": [\n",
      "                \"delivery\",\n",
      "                \"pickup\"\n",
      "            ],\n",
      "            \"price\": \"$$\",\n",
      "            \"location\": {\n",
      "                \"address1\": \"3121 Sacramento St\",\n",
      "                \"address2\": null,\n",
      "                \"address3\": \"\",\n",
      "                \"city\": \"Berkeley\",\n",
      "                \"zip_code\": \"94702\",\n",
      "                \"country\": \"US\",\n",
      "                \"state\": \"CA\",\n",
      "                \"display_address\": [\n",
      "                    \"3121 Sacramento St\",\n",
      "                    \"Berkeley, CA 94702\"\n",
      "                ]\n",
      "            },\n",
      "            \"phone\": \"+15106478210\",\n",
      "            \"display_phone\": \"(510) 647-8210\",\n",
      "            \"distance\": 684.3919001590383\n",
      "        }\n",
      "    ],\n",
      "    \"total\": 67,\n",
      "    \"region\": {\n",
      "        \"center\": {\n",
      "            \"longitude\": -122.270582,\n",
      "            \"latitude\": 37.849735\n",
      "        }\n",
      "    }\n",
      "}\n"
     ]
    }
   ],
   "source": [
    "print(json.dumps(res2, indent=4))"
   ]
  },
  {
   "cell_type": "code",
   "execution_count": 34,
   "metadata": {},
   "outputs": [
    {
     "data": {
      "text/plain": [
       "{'id': '-EpmBwODsvQ6gHx2IuVO5w',\n",
       " 'alias': 'el-tiny-cafe-berkeley',\n",
       " 'name': 'El Tiny Cafe',\n",
       " 'image_url': 'https://s3-media2.fl.yelpcdn.com/bphoto/tRqsfRFwSLuen9aRsNuXaA/o.jpg',\n",
       " 'is_closed': False,\n",
       " 'url': 'https://www.yelp.com/biz/el-tiny-cafe-berkeley?adjust_creative=YDZxEhaxjqKRlaRTv_Z18A&utm_campaign=yelp_api_v3&utm_medium=api_v3_business_search&utm_source=YDZxEhaxjqKRlaRTv_Z18A',\n",
       " 'review_count': 60,\n",
       " 'categories': [{'alias': 'cafes', 'title': 'Cafes'}],\n",
       " 'rating': 4.8,\n",
       " 'coordinates': {'latitude': 37.85001740687401,\n",
       "  'longitude': -122.27053198326358},\n",
       " 'transactions': [],\n",
       " 'location': {'address1': '3219 Adeline St',\n",
       "  'address2': '',\n",
       "  'address3': None,\n",
       "  'city': 'Berkeley',\n",
       "  'zip_code': '94703',\n",
       "  'country': 'US',\n",
       "  'state': 'CA',\n",
       "  'display_address': ['3219 Adeline St', 'Berkeley, CA 94703']},\n",
       " 'phone': '+15108796945',\n",
       " 'display_phone': '(510) 879-6945',\n",
       " 'distance': 31.707767038858425}"
      ]
     },
     "execution_count": 34,
     "metadata": {},
     "output_type": "execute_result"
    }
   ],
   "source": [
    "res2['businesses'][1]"
   ]
  },
  {
   "cell_type": "code",
   "execution_count": 29,
   "metadata": {},
   "outputs": [
    {
     "data": {
      "text/plain": [
       "list"
      ]
     },
     "execution_count": 29,
     "metadata": {},
     "output_type": "execute_result"
    }
   ],
   "source": [
    "type(res2['businesses'])"
   ]
  },
  {
   "cell_type": "code",
   "execution_count": 26,
   "metadata": {},
   "outputs": [
    {
     "data": {
      "text/plain": [
       "86.99355863981393"
      ]
     },
     "execution_count": 26,
     "metadata": {},
     "output_type": "execute_result"
    }
   ],
   "source": [
    "# yelp_id\n",
    "res2['businesses'][0].get('id', None)\n",
    "# cat_alias\n",
    "res2['businesses'][0]['categories'][0].get('alias', None)\n",
    "# latitude\n",
    "res2['businesses'][0]['coordinates'].get('latitude', None)\n",
    "# longitude\n",
    "res2['businesses'][0]['coordinates'].get('longitude', None)\n",
    "# name\n",
    "res2['businesses'][0].get('name', None)\n",
    "# street address\n",
    "res2['businesses'][0]['location'].get('address1', None)\n",
    "# zip\n",
    "res2['businesses'][0]['location'].get('zip_code', None)\n",
    "# city\n",
    "res2['businesses'][0]['location'].get('city', None)\n",
    "# price\n",
    "res2['businesses'][0].get('price', None)\n",
    "# rating\n",
    "res2['businesses'][0].get('rating', None)\n",
    "# review_count\n",
    "res2['businesses'][0].get('review_count', None)\n",
    "# distance\n",
    "res2['businesses'][0].get('distance', None)"
   ]
  },
  {
   "cell_type": "code",
   "execution_count": 41,
   "metadata": {},
   "outputs": [
    {
     "name": "stdout",
     "output_type": "stream",
     "text": [
      "Empty DataFrame\n",
      "Columns: [reference_bike_stn, yelp_id, cat_alias, lat, long, name, street_address, zip, city, price, rating, review_count, distance_from_bike_stn]\n",
      "Index: []\n"
     ]
    }
   ],
   "source": [
    "cols = [\"reference_bike_stn\", \"yelp_id\", \"cat_alias\", \"lat\", \"long\", \"name\", \"street_address\", \"zip\", \"city\", \"price\", \"rating\", \"review_count\", \"distance_from_bike_stn\"]\n",
    "\n",
    "yelp_df = pd.DataFrame(columns=cols)\n",
    "print(yelp_df)"
   ]
  },
  {
   "cell_type": "code",
   "execution_count": 10,
   "metadata": {},
   "outputs": [],
   "source": [
    "url = 'https://api.yelp.com/v3/businesses/search'\n",
    "categories = 'beaches,bicyclepaths,bowling,rock_climbing,escapegames,hiking,tennis,volleyball,zoos,arcades,galleries,gardens,movietheaters,festivals,museums,trainstations,busstations,metrostations,publictransport,trains,bars,barcrawl,beergardens,karaoke,restaurants'\n",
    "params = {'radius': '1000', 'limit': '50', 'categories' : f'{categories}', 'sort' : 'distance'}\n",
    "headers = {'Accept': 'application/json', 'Authorization': f'Bearer {yelp_api_key}'}"
   ]
  },
  {
   "cell_type": "code",
   "execution_count": 11,
   "metadata": {},
   "outputs": [],
   "source": [
    "yelp_df = fsq_yelp_parsing.get_yelp_places(citybikes_df, url, params, headers)"
   ]
  },
  {
   "cell_type": "code",
   "execution_count": 12,
   "metadata": {},
   "outputs": [
    {
     "name": "stdout",
     "output_type": "stream",
     "text": [
      "<class 'pandas.core.frame.DataFrame'>\n",
      "Int64Index: 50 entries, 0 to 49\n",
      "Data columns (total 13 columns):\n",
      " #   Column                  Non-Null Count  Dtype  \n",
      "---  ------                  --------------  -----  \n",
      " 0   reference_bike_stn      50 non-null     object \n",
      " 1   yelp_id                 50 non-null     object \n",
      " 2   cat_alias               50 non-null     object \n",
      " 3   lat                     50 non-null     float64\n",
      " 4   long                    50 non-null     float64\n",
      " 5   name                    50 non-null     object \n",
      " 6   street_address          50 non-null     object \n",
      " 7   zip                     50 non-null     object \n",
      " 8   city                    50 non-null     object \n",
      " 9   price                   37 non-null     object \n",
      " 10  rating                  50 non-null     float64\n",
      " 11  review_count            50 non-null     int64  \n",
      " 12  distance_from_bike_stn  50 non-null     float64\n",
      "dtypes: float64(4), int64(1), object(8)\n",
      "memory usage: 5.5+ KB\n"
     ]
    }
   ],
   "source": [
    "yelp_df.info()"
   ]
  },
  {
   "cell_type": "code",
   "execution_count": null,
   "metadata": {},
   "outputs": [],
   "source": []
  },
  {
   "cell_type": "code",
   "execution_count": null,
   "metadata": {},
   "outputs": [],
   "source": []
  },
  {
   "cell_type": "code",
   "execution_count": null,
   "metadata": {},
   "outputs": [],
   "source": []
  },
  {
   "cell_type": "code",
   "execution_count": null,
   "metadata": {},
   "outputs": [],
   "source": []
  },
  {
   "cell_type": "code",
   "execution_count": null,
   "metadata": {},
   "outputs": [],
   "source": []
  },
  {
   "cell_type": "code",
   "execution_count": null,
   "metadata": {},
   "outputs": [],
   "source": []
  }
 ],
 "metadata": {
  "kernelspec": {
   "display_name": "Python 3",
   "language": "python",
   "name": "python3"
  },
  "language_info": {
   "codemirror_mode": {
    "name": "ipython",
    "version": 3
   },
   "file_extension": ".py",
   "mimetype": "text/x-python",
   "name": "python",
   "nbconvert_exporter": "python",
   "pygments_lexer": "ipython3",
   "version": "3.10.9"
  }
 },
 "nbformat": 4,
 "nbformat_minor": 4
}
